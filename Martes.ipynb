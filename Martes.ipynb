{
 "cells": [
  {
   "cell_type": "markdown",
   "metadata": {},
   "source": [
    "# Listas "
   ]
  },
  {
   "cell_type": "markdown",
   "metadata": {},
   "source": [
    "https://docs.python.org/es/3/tutorial/datastructures.html"
   ]
  },
  {
   "cell_type": "code",
   "execution_count": 4,
   "metadata": {},
   "outputs": [],
   "source": [
    "# Esto es como una lista de la compra normal que tu harias separada por comas.\n",
    "# Super importante que las listas van entre corchetes y las comas !!\n",
    "# Las listas empiezan por 0 a contar"
   ]
  },
  {
   "cell_type": "code",
   "execution_count": 5,
   "metadata": {},
   "outputs": [],
   "source": [
    "listaCompra = ['pan', 'lechuga', 'huevo', 'tomates']"
   ]
  },
  {
   "cell_type": "code",
   "execution_count": 6,
   "metadata": {},
   "outputs": [],
   "source": [
    "# Las listas pueden contener cualquier tipo de datos: int, string, boolean, float, otras listas... "
   ]
  },
  {
   "cell_type": "code",
   "execution_count": 7,
   "metadata": {},
   "outputs": [],
   "source": [
    "ejemplo =  ['hola', 23, 34.5, True, ['descansar', 'comprar']]"
   ]
  },
  {
   "cell_type": "markdown",
   "metadata": {},
   "source": [
    "## Metodos de listas"
   ]
  },
  {
   "cell_type": "code",
   "execution_count": 17,
   "metadata": {},
   "outputs": [],
   "source": [
    "personas = ['Mario', 'Lucia', 'Paula', 'Eva', 'Enrique', 'Jose', 'Diego', 'Alvaro']"
   ]
  },
  {
   "cell_type": "code",
   "execution_count": 18,
   "metadata": {},
   "outputs": [
    {
     "name": "stdout",
     "output_type": "stream",
     "text": [
      "['Mario', 'Lucia', 'Paula', 'Eva', 'Enrique', 'Jose', 'Diego', 'Alvaro', 'Marcos']\n"
     ]
    }
   ],
   "source": [
    "personas.append(\"Marcos\")\n",
    "print(personas)"
   ]
  },
  {
   "cell_type": "code",
   "execution_count": 19,
   "metadata": {},
   "outputs": [
    {
     "name": "stdout",
     "output_type": "stream",
     "text": [
      "['Mario', 'Lucia', 'Paula', 'Eva', 'Enrique', 'Jose', 'Diego', 'Alvaro']\n"
     ]
    }
   ],
   "source": [
    "personas.pop() #Elimina al ultimo de la lista\n",
    "print(personas)"
   ]
  },
  {
   "cell_type": "code",
   "execution_count": 20,
   "metadata": {},
   "outputs": [
    {
     "name": "stdout",
     "output_type": "stream",
     "text": [
      "['Mario', 'Lucia', 'Eva', 'Enrique', 'Jose', 'Diego', 'Alvaro']\n"
     ]
    }
   ],
   "source": [
    "personas.pop(2) #elimina a la posicion 2\n",
    "print(personas)"
   ]
  },
  {
   "cell_type": "code",
   "execution_count": 21,
   "metadata": {},
   "outputs": [
    {
     "name": "stdout",
     "output_type": "stream",
     "text": [
      "['Mario', 'Eva', 'Enrique', 'Jose', 'Diego', 'Alvaro']\n"
     ]
    }
   ],
   "source": [
    "personas.remove(\"Lucia\") # Elimina el elemento Lucia \n",
    "print(personas)"
   ]
  },
  {
   "cell_type": "code",
   "execution_count": 26,
   "metadata": {},
   "outputs": [
    {
     "name": "stdout",
     "output_type": "stream",
     "text": [
      "['Mario', 'Raul', 'Eva', 'Enrique', 'Jose', 'Diego', 'Alvaro']\n"
     ]
    }
   ],
   "source": [
    "personas.insert(1, \"Raul\") #insertar en la posicion 1 \n",
    "print(personas)"
   ]
  },
  {
   "cell_type": "code",
   "execution_count": 28,
   "metadata": {},
   "outputs": [
    {
     "data": {
      "text/plain": [
       "2"
      ]
     },
     "execution_count": 28,
     "metadata": {},
     "output_type": "execute_result"
    }
   ],
   "source": [
    "personas.index(\"Eva\") #posicion de Eva\n"
   ]
  },
  {
   "cell_type": "code",
   "execution_count": null,
   "metadata": {},
   "outputs": [],
   "source": [
    "personas.clear() #Elimina la lista entera\n",
    "print(personas) # Vemos que esta vacia!! "
   ]
  },
  {
   "cell_type": "markdown",
   "metadata": {},
   "source": [
    "# Diccionarios"
   ]
  },
  {
   "cell_type": "markdown",
   "metadata": {},
   "source": [
    "https://ellibrodepython.com/diccionarios-en-python"
   ]
  },
  {
   "cell_type": "code",
   "execution_count": null,
   "metadata": {},
   "outputs": [],
   "source": [
    "# Como la RAE -> entrada: definicion \n",
    "# Va con llaves \n",
    "# { k:v, k:v }\n",
    "# La clave puede ser un string o int\n",
    "# El valor puede ser string, int, float, lista u otro diccionario"
   ]
  },
  {
   "cell_type": "code",
   "execution_count": 29,
   "metadata": {},
   "outputs": [],
   "source": [
    "edades = {\"Eva\": 22, \"Paula\": 20, \"Gon\": 10}"
   ]
  },
  {
   "cell_type": "code",
   "execution_count": 30,
   "metadata": {},
   "outputs": [
    {
     "name": "stdout",
     "output_type": "stream",
     "text": [
      "{'Eva': 22, 'Paula': 20, 'Gon': 10}\n"
     ]
    }
   ],
   "source": [
    "print(edades)"
   ]
  },
  {
   "cell_type": "code",
   "execution_count": null,
   "metadata": {},
   "outputs": [],
   "source": []
  },
  {
   "cell_type": "code",
   "execution_count": null,
   "metadata": {},
   "outputs": [],
   "source": []
  }
 ],
 "metadata": {
  "kernelspec": {
   "display_name": "Python 3",
   "language": "python",
   "name": "python3"
  },
  "language_info": {
   "codemirror_mode": {
    "name": "ipython",
    "version": 3
   },
   "file_extension": ".py",
   "mimetype": "text/x-python",
   "name": "python",
   "nbconvert_exporter": "python",
   "pygments_lexer": "ipython3",
   "version": "3.8.5"
  }
 },
 "nbformat": 4,
 "nbformat_minor": 4
}
