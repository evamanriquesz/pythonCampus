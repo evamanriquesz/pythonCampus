{
 "cells": [
  {
   "cell_type": "markdown",
   "metadata": {},
   "source": [
    "# Listas "
   ]
  },
  {
   "cell_type": "markdown",
   "metadata": {},
   "source": [
    "https://docs.python.org/es/3/tutorial/datastructures.html"
   ]
  },
  {
   "cell_type": "code",
   "execution_count": 4,
   "metadata": {},
   "outputs": [],
   "source": [
    "# Esto es como una lista de la compra normal que tu harias separada por comas.\n",
    "# Super importante que las listas van entre corchetes y las comas !!\n",
    "# Las listas empiezan por 0 a contar"
   ]
  },
  {
   "cell_type": "code",
   "execution_count": 5,
   "metadata": {},
   "outputs": [],
   "source": [
    "listaCompra = ['pan', 'lechuga', 'huevo', 'tomates']"
   ]
  },
  {
   "cell_type": "code",
   "execution_count": 6,
   "metadata": {},
   "outputs": [],
   "source": [
    "# Las listas pueden contener cualquier tipo de datos: int, string, boolean, float, otras listas... "
   ]
  },
  {
   "cell_type": "code",
   "execution_count": 7,
   "metadata": {},
   "outputs": [],
   "source": [
    "ejemplo =  ['hola', 23, 34.5, True, ['descansar', 'comprar']]"
   ]
  },
  {
   "cell_type": "markdown",
   "metadata": {},
   "source": [
    "## Metodos de listas"
   ]
  },
  {
   "cell_type": "code",
   "execution_count": 2,
   "metadata": {},
   "outputs": [],
   "source": [
    "personas = ['Mario', 'Lucia', 'Paula', 'Eva', 'Enrique', 'Jose', 'Diego', 'Alvaro']"
   ]
  },
  {
   "cell_type": "code",
   "execution_count": 3,
   "metadata": {},
   "outputs": [
    {
     "name": "stdout",
     "output_type": "stream",
     "text": [
      "Paula\n"
     ]
    }
   ],
   "source": [
    "print(personas[2]) # Acceder al elemento 2 de la lista"
   ]
  },
  {
   "cell_type": "code",
   "execution_count": 4,
   "metadata": {},
   "outputs": [
    {
     "data": {
      "text/plain": [
       "8"
      ]
     },
     "execution_count": 4,
     "metadata": {},
     "output_type": "execute_result"
    }
   ],
   "source": [
    "len(personas) # Calcular la longitud de la lista"
   ]
  },
  {
   "cell_type": "code",
   "execution_count": 18,
   "metadata": {},
   "outputs": [
    {
     "name": "stdout",
     "output_type": "stream",
     "text": [
      "['Mario', 'Lucia', 'Paula', 'Eva', 'Enrique', 'Jose', 'Diego', 'Alvaro', 'Marcos']\n"
     ]
    }
   ],
   "source": [
    "personas.append(\"Marcos\")\n",
    "print(personas)"
   ]
  },
  {
   "cell_type": "code",
   "execution_count": 19,
   "metadata": {},
   "outputs": [
    {
     "name": "stdout",
     "output_type": "stream",
     "text": [
      "['Mario', 'Lucia', 'Paula', 'Eva', 'Enrique', 'Jose', 'Diego', 'Alvaro']\n"
     ]
    }
   ],
   "source": [
    "personas.pop() #Elimina al ultimo de la lista\n",
    "print(personas)"
   ]
  },
  {
   "cell_type": "code",
   "execution_count": 20,
   "metadata": {},
   "outputs": [
    {
     "name": "stdout",
     "output_type": "stream",
     "text": [
      "['Mario', 'Lucia', 'Eva', 'Enrique', 'Jose', 'Diego', 'Alvaro']\n"
     ]
    }
   ],
   "source": [
    "personas.pop(2) #elimina a la posicion 2\n",
    "print(personas)"
   ]
  },
  {
   "cell_type": "code",
   "execution_count": 21,
   "metadata": {},
   "outputs": [
    {
     "name": "stdout",
     "output_type": "stream",
     "text": [
      "['Mario', 'Eva', 'Enrique', 'Jose', 'Diego', 'Alvaro']\n"
     ]
    }
   ],
   "source": [
    "personas.remove(\"Lucia\") # Elimina el elemento Lucia \n",
    "print(personas)"
   ]
  },
  {
   "cell_type": "code",
   "execution_count": 26,
   "metadata": {},
   "outputs": [
    {
     "name": "stdout",
     "output_type": "stream",
     "text": [
      "['Mario', 'Raul', 'Eva', 'Enrique', 'Jose', 'Diego', 'Alvaro']\n"
     ]
    }
   ],
   "source": [
    "personas.insert(1, \"Raul\") #insertar en la posicion 1 \n",
    "print(personas)"
   ]
  },
  {
   "cell_type": "code",
   "execution_count": null,
   "metadata": {},
   "outputs": [],
   "source": [
    "# Sustituir el elemento de la posicion 1\n",
    "personas[1] = \"Jesus\"\n",
    "print(personas)"
   ]
  },
  {
   "cell_type": "code",
   "execution_count": 28,
   "metadata": {},
   "outputs": [
    {
     "data": {
      "text/plain": [
       "2"
      ]
     },
     "execution_count": 28,
     "metadata": {},
     "output_type": "execute_result"
    }
   ],
   "source": [
    "personas.index(\"Eva\") #posicion de Eva\n"
   ]
  },
  {
   "cell_type": "code",
   "execution_count": null,
   "metadata": {},
   "outputs": [],
   "source": [
    "personas.clear() #Elimina la lista entera\n",
    "print(personas) # Vemos que esta vacia!! "
   ]
  },
  {
   "cell_type": "code",
   "execution_count": null,
   "metadata": {},
   "outputs": [],
   "source": [
    "# Ejercicio lista de la compra"
   ]
  },
  {
   "cell_type": "code",
   "execution_count": 13,
   "metadata": {},
   "outputs": [],
   "source": [
    "listaCompra = ['melon', 'sandia', 'atun', 'filetes', 'yogures','huevos']"
   ]
  },
  {
   "cell_type": "code",
   "execution_count": 14,
   "metadata": {},
   "outputs": [],
   "source": [
    "# Añadir los elementos sopa, arroz, queso \n",
    "# Eliminar el elemento queso (ultimo) \n",
    "# Eliminar el elemento filetes \n",
    "# Eliminar el elemento 3 \n",
    "# Insertar el la posición 2 el elemento pan\n",
    "# Sustituir el elemento melon por piña \n",
    "# Ver en que posicion se han quedado la sopa"
   ]
  },
  {
   "cell_type": "code",
   "execution_count": 15,
   "metadata": {},
   "outputs": [
    {
     "name": "stdout",
     "output_type": "stream",
     "text": [
      "['melon', 'sandia', 'atun', 'filetes', 'yogures', 'huevos', 'sopa', 'arroz', 'queso']\n"
     ]
    }
   ],
   "source": [
    "# Añadir los elementos sopa, arroz, queso \n",
    "listaCompra.append(\"sopa\")\n",
    "listaCompra.append(\"arroz\")\n",
    "listaCompra.append(\"queso\")\n",
    "print(listaCompra)"
   ]
  },
  {
   "cell_type": "code",
   "execution_count": 16,
   "metadata": {},
   "outputs": [
    {
     "name": "stdout",
     "output_type": "stream",
     "text": [
      "['melon', 'sandia', 'atun', 'filetes', 'yogures', 'huevos', 'sopa', 'arroz']\n"
     ]
    }
   ],
   "source": [
    "# Eliminar el elemento queso (ultimo) \n",
    "listaCompra.pop()\n",
    "print(listaCompra)"
   ]
  },
  {
   "cell_type": "code",
   "execution_count": 17,
   "metadata": {},
   "outputs": [
    {
     "name": "stdout",
     "output_type": "stream",
     "text": [
      "['melon', 'sandia', 'atun', 'yogures', 'huevos', 'sopa', 'arroz']\n"
     ]
    }
   ],
   "source": [
    "# Eliminar el elemento filetes \n",
    "listaCompra.remove(\"filetes\")\n",
    "print(listaCompra)"
   ]
  },
  {
   "cell_type": "code",
   "execution_count": 18,
   "metadata": {},
   "outputs": [
    {
     "name": "stdout",
     "output_type": "stream",
     "text": [
      "['melon', 'sandia', 'atun', 'huevos', 'sopa', 'arroz']\n"
     ]
    }
   ],
   "source": [
    "# Eliminar el elemento 3 \n",
    "listaCompra.pop(3)\n",
    "print(listaCompra)"
   ]
  },
  {
   "cell_type": "code",
   "execution_count": 19,
   "metadata": {},
   "outputs": [
    {
     "name": "stdout",
     "output_type": "stream",
     "text": [
      "['melon', 'sandia', 'pan', 'atun', 'huevos', 'sopa', 'arroz']\n"
     ]
    }
   ],
   "source": [
    "# Insertar el la posición 2 el elemento pan\n",
    "listaCompra.insert(2,\"pan\")\n",
    "print(listaCompra)"
   ]
  },
  {
   "cell_type": "code",
   "execution_count": 20,
   "metadata": {},
   "outputs": [
    {
     "name": "stdout",
     "output_type": "stream",
     "text": [
      "['piña', 'sandia', 'pan', 'atun', 'huevos', 'sopa', 'arroz']\n"
     ]
    }
   ],
   "source": [
    "# Sustituir el elemento melon por piña \n",
    "listaCompra[0] =\"piña\"\n",
    "print(listaCompra)"
   ]
  },
  {
   "cell_type": "code",
   "execution_count": 21,
   "metadata": {},
   "outputs": [
    {
     "data": {
      "text/plain": [
       "5"
      ]
     },
     "execution_count": 21,
     "metadata": {},
     "output_type": "execute_result"
    }
   ],
   "source": [
    "# Ver en que posicion se han quedado la sopa\n",
    "listaCompra.index(\"sopa\")"
   ]
  },
  {
   "cell_type": "markdown",
   "metadata": {},
   "source": [
    "# Bucle for"
   ]
  },
  {
   "cell_type": "code",
   "execution_count": 5,
   "metadata": {},
   "outputs": [
    {
     "name": "stdout",
     "output_type": "stream",
     "text": [
      "0\n",
      "1\n",
      "2\n",
      "3\n",
      "4\n",
      "5\n",
      "6\n",
      "7\n",
      "8\n",
      "9\n"
     ]
    }
   ],
   "source": [
    "for i in range(0,10): \n",
    "    print(i) "
   ]
  },
  {
   "cell_type": "code",
   "execution_count": 22,
   "metadata": {},
   "outputs": [
    {
     "name": "stdout",
     "output_type": "stream",
     "text": [
      "1\n",
      "2\n",
      "3\n",
      "4\n",
      "5\n",
      "6\n",
      "7\n",
      "8\n",
      "9\n"
     ]
    }
   ],
   "source": [
    "for i in range(1,10): \n",
    "    print(i) "
   ]
  },
  {
   "cell_type": "code",
   "execution_count": 23,
   "metadata": {},
   "outputs": [
    {
     "name": "stdout",
     "output_type": "stream",
     "text": [
      "melon\n",
      "sandia\n",
      "atun\n",
      "filetes\n",
      "yogures\n",
      "huevos\n"
     ]
    }
   ],
   "source": [
    "listaCompra = ['melon', 'sandia', 'atun', 'filetes', 'yogures','huevos']\n",
    "for i in listaCompra:\n",
    "    print(i)"
   ]
  },
  {
   "cell_type": "code",
   "execution_count": 24,
   "metadata": {},
   "outputs": [],
   "source": [
    "#Ejercicio: Encontrar en que posiciones está el elemento Eva en la siguiente lista"
   ]
  },
  {
   "cell_type": "code",
   "execution_count": 25,
   "metadata": {},
   "outputs": [],
   "source": [
    "\n",
    "posiciones = []\n",
    "personas  = ['Mario', 'Jesus', 'Eva', 'Enrique', 'Jose', 'Diego', 'Alvaro', 'Eva']\n",
    "\n",
    "# [2, 7]"
   ]
  },
  {
   "cell_type": "markdown",
   "metadata": {},
   "source": [
    "# Diccionarios"
   ]
  },
  {
   "cell_type": "markdown",
   "metadata": {},
   "source": [
    "https://ellibrodepython.com/diccionarios-en-python"
   ]
  },
  {
   "cell_type": "code",
   "execution_count": null,
   "metadata": {},
   "outputs": [],
   "source": [
    "# Como la RAE -> entrada: definicion \n",
    "# Va con llaves \n",
    "# { k:v, k:v }\n",
    "# La clave puede ser un string o int\n",
    "# El valor puede ser string, int, float, lista u otro diccionario"
   ]
  },
  {
   "cell_type": "code",
   "execution_count": 54,
   "metadata": {},
   "outputs": [],
   "source": [
    "edades = {\"Eva\": 22, \"Paula\": 20, \"Gon\": 10, \"Sergio\":16}"
   ]
  },
  {
   "cell_type": "code",
   "execution_count": 49,
   "metadata": {},
   "outputs": [
    {
     "name": "stdout",
     "output_type": "stream",
     "text": [
      "{'Eva': 22, 'Paula': 20, 'Gon': 10, 'Sergio': 16}\n"
     ]
    }
   ],
   "source": [
    "print(edades)"
   ]
  },
  {
   "cell_type": "code",
   "execution_count": null,
   "metadata": {},
   "outputs": [],
   "source": [
    "agenda = {\"lunes\":['correr', 'comprar'], 'martes':['leer', 'salir'], 'miercoles': {'mañana': 'campus', 'tarde': 'pisci'}}"
   ]
  },
  {
   "cell_type": "code",
   "execution_count": null,
   "metadata": {},
   "outputs": [],
   "source": [
    "notas = {\n",
    "          'gon': {'ev1': 10, 'ev2':9, 'ev3':9.75}, \n",
    "          'david' : {'ev1': 9.5, 'ev2':9, 'ev3': 10}, \n",
    "          'paula':{'ev1': 10, 'ev2': 9.9, 'ev3':10}\n",
    "        }"
   ]
  },
  {
   "cell_type": "code",
   "execution_count": 55,
   "metadata": {},
   "outputs": [],
   "source": [
    "contactos = {\n",
    "                1: {'nombre': 'paula', 'tlf': 666777888, 'direccion': 'calle aaa'},\n",
    "                2: {'nombre': 'pedro', 'tlf': 666111222, 'direccion': 'calle bbb'},\n",
    "                3: {'nombre': 'angel', 'tlf': 666466547, 'direccion': 'calle ccc'},\n",
    "                4: {'nombre': 'patri', 'tlf': 624585237, 'direccion': 'calle ddd'}\n",
    "            }"
   ]
  },
  {
   "cell_type": "code",
   "execution_count": 56,
   "metadata": {},
   "outputs": [
    {
     "name": "stdout",
     "output_type": "stream",
     "text": [
      "{1: {'nombre': 'paula', 'tlf': 666777888, 'direccion': 'calle aaa'}, 2: {'nombre': 'pedro', 'tlf': 666111222, 'direccion': 'calle bbb'}, 3: {'nombre': 'angel', 'tlf': 666466547, 'direccion': 'calle ccc'}, 4: {'nombre': 'patri', 'tlf': 624585237, 'direccion': 'calle ddd'}}\n"
     ]
    }
   ],
   "source": [
    "print(contactos)"
   ]
  },
  {
   "cell_type": "code",
   "execution_count": 34,
   "metadata": {},
   "outputs": [
    {
     "name": "stdout",
     "output_type": "stream",
     "text": [
      "22\n"
     ]
    }
   ],
   "source": [
    "# Acceder a un valor dada una clave \n",
    "print(edades[\"Eva\"])"
   ]
  },
  {
   "cell_type": "code",
   "execution_count": 35,
   "metadata": {},
   "outputs": [
    {
     "name": "stdout",
     "output_type": "stream",
     "text": [
      "22\n"
     ]
    }
   ],
   "source": [
    "#Otra forma \n",
    "print(edades.get(\"Eva\"))"
   ]
  },
  {
   "cell_type": "code",
   "execution_count": 36,
   "metadata": {},
   "outputs": [
    {
     "name": "stdout",
     "output_type": "stream",
     "text": [
      "{'Eva': 22, 'Paula': 20, 'Gon': 10, 'Sergio': 16, 'Dani': 26}\n"
     ]
    }
   ],
   "source": [
    "#Añdir un nuevo par clave-valor \n",
    "edades['Dani'] = 26\n",
    "print(edades)"
   ]
  },
  {
   "cell_type": "code",
   "execution_count": 37,
   "metadata": {},
   "outputs": [
    {
     "name": "stdout",
     "output_type": "stream",
     "text": [
      "{'Eva': 22, 'Paula': 20, 'Gon': 10, 'Dani': 26}\n"
     ]
    }
   ],
   "source": [
    "#Eliminar un elemento por clave\n",
    "edades.pop(\"Sergio\")\n",
    "print(edades)"
   ]
  },
  {
   "cell_type": "code",
   "execution_count": 42,
   "metadata": {},
   "outputs": [
    {
     "name": "stdout",
     "output_type": "stream",
     "text": [
      "dict_keys(['Eva', 'Paula', 'Gon', 'Dani'])\n"
     ]
    }
   ],
   "source": [
    "print(edades.keys())"
   ]
  },
  {
   "cell_type": "code",
   "execution_count": 45,
   "metadata": {},
   "outputs": [
    {
     "name": "stdout",
     "output_type": "stream",
     "text": [
      "dict_values([22, 20, 10, 26])\n"
     ]
    }
   ],
   "source": [
    "print(edades.values())"
   ]
  },
  {
   "cell_type": "code",
   "execution_count": 46,
   "metadata": {},
   "outputs": [
    {
     "name": "stdout",
     "output_type": "stream",
     "text": [
      "dict_items([('Eva', 22), ('Paula', 20), ('Gon', 10), ('Dani', 26)])\n"
     ]
    }
   ],
   "source": [
    "print(edades.items())"
   ]
  },
  {
   "cell_type": "code",
   "execution_count": 47,
   "metadata": {},
   "outputs": [
    {
     "name": "stdout",
     "output_type": "stream",
     "text": [
      "{}\n"
     ]
    }
   ],
   "source": [
    "edades.clear()\n",
    "print(edades)"
   ]
  },
  {
   "cell_type": "code",
   "execution_count": 50,
   "metadata": {},
   "outputs": [
    {
     "name": "stdout",
     "output_type": "stream",
     "text": [
      "Eva\n",
      "Paula\n",
      "Gon\n",
      "Sergio\n"
     ]
    }
   ],
   "source": [
    "for k in edades.keys(): \n",
    "    print(k)"
   ]
  },
  {
   "cell_type": "code",
   "execution_count": 51,
   "metadata": {},
   "outputs": [
    {
     "name": "stdout",
     "output_type": "stream",
     "text": [
      "22\n",
      "20\n",
      "10\n",
      "16\n"
     ]
    }
   ],
   "source": [
    "for v in edades.values(): \n",
    "    print(v)"
   ]
  },
  {
   "cell_type": "code",
   "execution_count": 52,
   "metadata": {},
   "outputs": [
    {
     "name": "stdout",
     "output_type": "stream",
     "text": [
      "Clave:  Eva  Valor: 22\n",
      "Clave:  Paula  Valor: 20\n",
      "Clave:  Gon  Valor: 10\n",
      "Clave:  Sergio  Valor: 16\n"
     ]
    }
   ],
   "source": [
    "for k, v in edades.items(): \n",
    "    print(\"Clave: \", k, \" Valor:\", v)"
   ]
  },
  {
   "cell_type": "code",
   "execution_count": null,
   "metadata": {},
   "outputs": [],
   "source": []
  }
 ],
 "metadata": {
  "kernelspec": {
   "display_name": "Python 3 (ipykernel)",
   "language": "python",
   "name": "python3"
  },
  "language_info": {
   "codemirror_mode": {
    "name": "ipython",
    "version": 3
   },
   "file_extension": ".py",
   "mimetype": "text/x-python",
   "name": "python",
   "nbconvert_exporter": "python",
   "pygments_lexer": "ipython3",
   "version": "3.8.16"
  }
 },
 "nbformat": 4,
 "nbformat_minor": 4
}
