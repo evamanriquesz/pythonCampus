{
 "cells": [
  {
   "cell_type": "markdown",
   "id": "acef5731",
   "metadata": {},
   "source": [
    "# While"
   ]
  },
  {
   "cell_type": "code",
   "execution_count": 2,
   "id": "370857c8",
   "metadata": {},
   "outputs": [
    {
     "name": "stdout",
     "output_type": "stream",
     "text": [
      "1\n",
      "2\n",
      "3\n",
      "4\n",
      "5\n",
      "6\n",
      "7\n",
      "8\n",
      "9\n",
      "10\n"
     ]
    }
   ],
   "source": [
    "x = 1\n",
    "\n",
    "while x<=10: \n",
    "    print(x) \n",
    "    x = x + 1"
   ]
  },
  {
   "cell_type": "code",
   "execution_count": 4,
   "id": "a49bd42d",
   "metadata": {},
   "outputs": [
    {
     "name": "stdout",
     "output_type": "stream",
     "text": [
      "Numero 1: 3\n",
      "Numero 2: 4\n",
      "\n",
      "\n",
      "Numero 1: 2\n",
      "Numero 2: 4\n",
      "\n",
      "\n",
      "Numero 1: 6\n",
      "Numero 2: 6\n",
      "\n",
      "\n",
      "Numero 1: 1\n",
      "Numero 2: 4\n",
      "\n",
      "\n"
     ]
    }
   ],
   "source": [
    "fin = False \n",
    "\n",
    "while fin == False: \n",
    "    num1 = int(input(\"Numero 1: \"))\n",
    "    num2 = int(input(\"Numero 2: \"))\n",
    "    suma = num1 + num2\n",
    "    print(\"\\n\")\n",
    "    if suma == 5: \n",
    "        fin=True"
   ]
  },
  {
   "cell_type": "code",
   "execution_count": null,
   "id": "b08e395e",
   "metadata": {},
   "outputs": [],
   "source": [
    "# Ejercicio contraseña \n",
    "\n",
    "contra_secreta = \"evapaula123\"\n",
    "\n"
   ]
  },
  {
   "cell_type": "markdown",
   "id": "ee4886cb",
   "metadata": {},
   "source": [
    "# Listas"
   ]
  },
  {
   "cell_type": "code",
   "execution_count": 5,
   "id": "84b3c527",
   "metadata": {},
   "outputs": [],
   "source": [
    "x = ['pan', 'huevos', 'tomates', 'lechuga']\n",
    "y = ['pan', 23, 22.5, True, 'melón', ['espárragos', 'puerro']]\n"
   ]
  },
  {
   "cell_type": "code",
   "execution_count": 22,
   "id": "3da0e493",
   "metadata": {},
   "outputs": [
    {
     "data": {
      "text/plain": [
       "'puerro'"
      ]
     },
     "execution_count": 22,
     "metadata": {},
     "output_type": "execute_result"
    }
   ],
   "source": [
    "y[5].pop()"
   ]
  },
  {
   "cell_type": "code",
   "execution_count": 7,
   "id": "9a2b95e3",
   "metadata": {},
   "outputs": [
    {
     "name": "stdout",
     "output_type": "stream",
     "text": [
      "['pan', 23, 22.5, True, 'melón', ['espárragos', 'puerro']]\n"
     ]
    }
   ],
   "source": [
    "print(y)"
   ]
  },
  {
   "cell_type": "markdown",
   "id": "51eb96e0",
   "metadata": {},
   "source": [
    "# METODOS DE LISTAS"
   ]
  },
  {
   "cell_type": "code",
   "execution_count": null,
   "id": "0a0cf960",
   "metadata": {},
   "outputs": [],
   "source": [
    "# LAS LISTAS COMIENZAN EN LA POSICION 0 "
   ]
  },
  {
   "cell_type": "code",
   "execution_count": 8,
   "id": "62ad0ec6",
   "metadata": {},
   "outputs": [],
   "source": [
    "personas = ['Mario', 'Lucia', 'Paula', 'Eva', 'Enrique', 'Jose', 'Diego', 'Alvaro']"
   ]
  },
  {
   "cell_type": "code",
   "execution_count": 9,
   "id": "82cdf7ad",
   "metadata": {},
   "outputs": [
    {
     "name": "stdout",
     "output_type": "stream",
     "text": [
      "Paula\n"
     ]
    }
   ],
   "source": [
    "# Acceder a un elemento por índice \n",
    "print(personas[2])"
   ]
  },
  {
   "cell_type": "code",
   "execution_count": 13,
   "id": "fb134c8a",
   "metadata": {},
   "outputs": [
    {
     "name": "stdout",
     "output_type": "stream",
     "text": [
      "Jose\n"
     ]
    }
   ],
   "source": [
    "print(personas[5])"
   ]
  },
  {
   "cell_type": "code",
   "execution_count": 15,
   "id": "6295531d",
   "metadata": {},
   "outputs": [
    {
     "name": "stdout",
     "output_type": "stream",
     "text": [
      "8\n"
     ]
    }
   ],
   "source": [
    "# Longitud de la lista \n",
    "print(len(personas))"
   ]
  },
  {
   "cell_type": "code",
   "execution_count": 18,
   "id": "c72c534c",
   "metadata": {},
   "outputs": [
    {
     "name": "stdout",
     "output_type": "stream",
     "text": [
      "['Mario', 'Lucia', 'Paula', 'Eva', 'Enrique', 'Jose', 'Diego', 'Alvaro', 'Marcos']\n"
     ]
    }
   ],
   "source": [
    "# Añadir elemento a la lista \n",
    "personas.append(\"Marcos\")\n",
    "print(personas)"
   ]
  },
  {
   "cell_type": "code",
   "execution_count": 19,
   "id": "58db61c7",
   "metadata": {},
   "outputs": [
    {
     "name": "stdout",
     "output_type": "stream",
     "text": [
      "['Mario', 'Lucia', 'Paula', 'Eva', 'Enrique', 'Jose', 'Diego', 'Alvaro']\n"
     ]
    }
   ],
   "source": [
    "# Eliminar el ultimo elemento de la lista\n",
    "personas.pop()\n",
    "print(personas)"
   ]
  },
  {
   "cell_type": "code",
   "execution_count": 20,
   "id": "90d8de1d",
   "metadata": {},
   "outputs": [
    {
     "name": "stdout",
     "output_type": "stream",
     "text": [
      "['Mario', 'Lucia', 'Eva', 'Enrique', 'Jose', 'Diego', 'Alvaro']\n"
     ]
    }
   ],
   "source": [
    "# Eliminar el elemento en la posicion 2\n",
    "personas.pop(2)\n",
    "print(personas)"
   ]
  },
  {
   "cell_type": "code",
   "execution_count": 21,
   "id": "023c3c03",
   "metadata": {},
   "outputs": [
    {
     "name": "stdout",
     "output_type": "stream",
     "text": [
      "['Mario', 'Eva', 'Enrique', 'Jose', 'Diego', 'Alvaro']\n"
     ]
    }
   ],
   "source": [
    "# Eliminar por elemento (eliminar el elemento Lucia)\n",
    "personas.remove(\"Lucia\")\n",
    "print(personas)"
   ]
  },
  {
   "cell_type": "code",
   "execution_count": 23,
   "id": "ab309bb0",
   "metadata": {},
   "outputs": [
    {
     "name": "stdout",
     "output_type": "stream",
     "text": [
      "['Mario', 'Raul', 'Eva', 'Enrique', 'Jose', 'Diego', 'Alvaro']\n"
     ]
    }
   ],
   "source": [
    "#Insertar en una posicion determinada \n",
    "personas.insert(1, \"Raul\")\n",
    "print(personas)"
   ]
  },
  {
   "cell_type": "code",
   "execution_count": 24,
   "id": "40542331",
   "metadata": {},
   "outputs": [
    {
     "name": "stdout",
     "output_type": "stream",
     "text": [
      "['Mario', 'Jesus', 'Eva', 'Enrique', 'Jose', 'Diego', 'Alvaro']\n"
     ]
    }
   ],
   "source": [
    "# Sustituir el elemento de la posicion 1\n",
    "personas[1] = \"Jesus\"\n",
    "print(personas)"
   ]
  },
  {
   "cell_type": "code",
   "execution_count": 29,
   "id": "1f477fc3",
   "metadata": {},
   "outputs": [
    {
     "name": "stdout",
     "output_type": "stream",
     "text": [
      "['Mario', 'Jesus', 'Eva', 'Enrique', 'Jose', 'Diego', 'Alvaro', 'Eva']\n"
     ]
    }
   ],
   "source": [
    "print(personas)"
   ]
  },
  {
   "cell_type": "code",
   "execution_count": 30,
   "id": "bd3ea151",
   "metadata": {},
   "outputs": [
    {
     "name": "stdout",
     "output_type": "stream",
     "text": [
      "2\n"
     ]
    }
   ],
   "source": [
    "# Ver la posicoción de la vez que aparece un elemento\n",
    "print(personas.index(\"Eva\")) "
   ]
  },
  {
   "cell_type": "code",
   "execution_count": 31,
   "id": "113b1739",
   "metadata": {},
   "outputs": [
    {
     "name": "stdout",
     "output_type": "stream",
     "text": [
      "[]\n"
     ]
    }
   ],
   "source": [
    "# Eliminar toda la lista del tirón\n",
    "personas.clear()\n",
    "print(personas)"
   ]
  },
  {
   "cell_type": "code",
   "execution_count": 32,
   "id": "0d513aa3",
   "metadata": {},
   "outputs": [],
   "source": [
    "listaCompra = ['melon', 'sandia', 'atun', 'filetes', 'yogures','huevos']"
   ]
  },
  {
   "cell_type": "code",
   "execution_count": 33,
   "id": "107792f5",
   "metadata": {},
   "outputs": [],
   "source": [
    "# Añadir los elementos sopa, arroz, queso \n",
    "# Eliminar el elemento queso (ultimo) \n",
    "# Eliminar el elemento filetes \n",
    "# Eliminar el elemento 3 \n",
    "# Insertar el la posición 2 el elemento pan\n",
    "# Sustituir el elemento melon por piña \n",
    "# Ver en que posicion se han quedado los yogures"
   ]
  },
  {
   "cell_type": "code",
   "execution_count": 34,
   "id": "86fd7c5f",
   "metadata": {},
   "outputs": [],
   "source": [
    "# BUCLES FOR: "
   ]
  },
  {
   "cell_type": "code",
   "execution_count": 44,
   "id": "7e8e9533",
   "metadata": {},
   "outputs": [
    {
     "name": "stdout",
     "output_type": "stream",
     "text": [
      "0\n",
      "1\n",
      "2\n",
      "3\n",
      "4\n",
      "5\n",
      "6\n",
      "7\n",
      "8\n",
      "9\n",
      "0\n",
      "1\n",
      "2\n",
      "3\n",
      "4\n",
      "5\n",
      "6\n",
      "7\n",
      "8\n",
      "9\n"
     ]
    }
   ],
   "source": [
    "for i in range(0,10):\n",
    "    print(i)\n",
    "\n",
    "    \n",
    "for i in range(10): \n",
    "    print(i)\n",
    "\n",
    "  # los dos hacen lo mismo"
   ]
  },
  {
   "cell_type": "code",
   "execution_count": 46,
   "id": "47f8e19b",
   "metadata": {},
   "outputs": [
    {
     "name": "stdout",
     "output_type": "stream",
     "text": [
      "1\n",
      "2\n",
      "3\n",
      "4\n",
      "5\n",
      "6\n",
      "7\n",
      "8\n",
      "9\n",
      "10\n"
     ]
    }
   ],
   "source": [
    "for i in range(1,11): \n",
    "    print(i)\n",
    "    "
   ]
  },
  {
   "cell_type": "code",
   "execution_count": 48,
   "id": "72d629d2",
   "metadata": {},
   "outputs": [],
   "source": [
    "listaCompra = ['melon', 'sandia', 'atun', 'filetes', 'yogures','huevos']"
   ]
  },
  {
   "cell_type": "code",
   "execution_count": 53,
   "id": "497793e8",
   "metadata": {},
   "outputs": [
    {
     "name": "stdout",
     "output_type": "stream",
     "text": [
      "melon\n",
      "sandia\n",
      "atun\n",
      "filetes\n",
      "yogures\n",
      "huevos\n",
      "\n",
      "\n",
      "melon\n",
      "sandia\n",
      "atun\n",
      "filetes\n",
      "yogures\n",
      "huevos\n"
     ]
    }
   ],
   "source": [
    "for i in listaCompra: \n",
    "    print(i)\n",
    "    \n",
    "print('\\n')\n",
    "for i in range(len(listaCompra)):\n",
    "    print(listaCompra[i])"
   ]
  },
  {
   "cell_type": "code",
   "execution_count": 51,
   "id": "024e353c",
   "metadata": {},
   "outputs": [
    {
     "name": "stdout",
     "output_type": "stream",
     "text": [
      "range(1, 11)\n"
     ]
    }
   ],
   "source": [
    "print(range(1,11))"
   ]
  },
  {
   "cell_type": "code",
   "execution_count": 54,
   "id": "e47ca8c0",
   "metadata": {},
   "outputs": [
    {
     "name": "stdout",
     "output_type": "stream",
     "text": [
      "Elemento melon\n",
      "Elemento sandia\n",
      "Elemento atun\n",
      "Elemento filetes\n",
      "Elemento yogures\n",
      "Elemento huevos\n"
     ]
    }
   ],
   "source": [
    "for elemento in listaCompra: \n",
    "    print(\"Elemento\", elemento)"
   ]
  },
  {
   "cell_type": "code",
   "execution_count": 56,
   "id": "5dbaf8cb",
   "metadata": {},
   "outputs": [],
   "source": [
    "posiciones = []\n",
    "personas  = ['Mario', 'Jesus', 'Eva', 'Enrique', 'Jose', 'Diego', 'Alvaro', 'Eva']\n",
    "\n",
    "# [2, 7]"
   ]
  },
  {
   "cell_type": "code",
   "execution_count": 57,
   "id": "a33699d2",
   "metadata": {},
   "outputs": [
    {
     "data": {
      "text/plain": [
       "2"
      ]
     },
     "execution_count": 57,
     "metadata": {},
     "output_type": "execute_result"
    }
   ],
   "source": []
  },
  {
   "cell_type": "code",
   "execution_count": 58,
   "id": "a26f1cc1",
   "metadata": {},
   "outputs": [
    {
     "name": "stdout",
     "output_type": "stream",
     "text": [
      "[2, 7]\n"
     ]
    }
   ],
   "source": [
    "posiciones = []\n",
    "personas  = ['Mario', 'Jesus', 'Eva', 'Enrique', 'Jose', 'Diego', 'Alvaro', 'Eva']\n",
    "\n",
    "pos = -1\n",
    "for persona in personas:\n",
    "    pos += 1\n",
    "    if persona == 'Eva':\n",
    "        posiciones.append(pos)\n",
    "        \n",
    "print(posiciones)"
   ]
  },
  {
   "cell_type": "markdown",
   "id": "6346fee5",
   "metadata": {},
   "source": [
    "# Lista de la compra"
   ]
  },
  {
   "cell_type": "code",
   "execution_count": null,
   "id": "dcb3ecc5",
   "metadata": {},
   "outputs": [],
   "source": [
    "# Preguntar al cliente si quiere añadir alimento\n",
    "# Si quiere, añadir alimento a lista de la compra\n",
    "# Volver a preguntar\n",
    "# ...\n",
    "# No quiere añadir más --> Imprimir lista de la compra bonito\n",
    "#Para imprimir la lista: recorrer con un bucle for y concatenar"
   ]
  },
  {
   "cell_type": "code",
   "execution_count": null,
   "id": "6580ee34",
   "metadata": {},
   "outputs": [
    {
     "name": "stdout",
     "output_type": "stream",
     "text": [
      "Desea añadir un alimento a la lista? \n",
      "Desea añadir un alimento a la lista? \n",
      "Desea añadir un alimento a la lista? \n",
      "Desea añadir un alimento a la lista? \n"
     ]
    }
   ],
   "source": [
    "lista_compra = []\n",
    "fin = False\n",
    "while fin == False:\n",
    "    anadir = input('Desea añadir un alimento a la lista? ')\n",
    "    "
   ]
  },
  {
   "cell_type": "code",
   "execution_count": 1,
   "id": "e512331b",
   "metadata": {},
   "outputs": [],
   "source": [
    "edades = {\"Eva\": 22, \"Paula\": 20, \"Gon\": 10, \"Sergio\":16}"
   ]
  },
  {
   "cell_type": "code",
   "execution_count": 2,
   "id": "47576772",
   "metadata": {},
   "outputs": [],
   "source": [
    "agenda = {'lunes':['correr', 'comprar'], 'martes':['leer', 'salir'],'miércoles':{'mañana':'campus', 'tarde':'pisci'}}"
   ]
  },
  {
   "cell_type": "code",
   "execution_count": 3,
   "id": "114c3ef1",
   "metadata": {},
   "outputs": [
    {
     "name": "stdout",
     "output_type": "stream",
     "text": [
      "{'lunes': ['correr', 'comprar'], 'martes': ['leer', 'salir'], 'miércoles': {'mañana': 'campus', 'tarde': 'pisci'}}\n"
     ]
    }
   ],
   "source": [
    "print(agenda)"
   ]
  },
  {
   "cell_type": "code",
   "execution_count": 4,
   "id": "10e769f6",
   "metadata": {},
   "outputs": [],
   "source": [
    "notas = {\n",
    "          'gon': {'ev1': 10, 'ev2':9, 'ev3':9.75}, \n",
    "          'david' : {'ev1': 9.5, 'ev2':9, 'ev3': 10}, \n",
    "          'paula':{'ev1': 10, 'ev2': 9.9, 'ev3':10}\n",
    "        }"
   ]
  },
  {
   "cell_type": "code",
   "execution_count": 5,
   "id": "6c561ab4",
   "metadata": {},
   "outputs": [
    {
     "name": "stdout",
     "output_type": "stream",
     "text": [
      "{'gon': {'ev1': 10, 'ev2': 9, 'ev3': 9.75}, 'david': {'ev1': 9.5, 'ev2': 9, 'ev3': 10}, 'paula': {'ev1': 10, 'ev2': 9.9, 'ev3': 10}}\n"
     ]
    }
   ],
   "source": [
    "print(notas)"
   ]
  },
  {
   "cell_type": "code",
   "execution_count": 7,
   "id": "03e38bcc",
   "metadata": {},
   "outputs": [],
   "source": [
    "contactos = {\n",
    "    1: {'nombre': 'paula', 'tlf': 666963488, 'direccion': 'calle aaa'},\n",
    "    2: {'nombre': 'pedro', 'tlf': 687673525, 'direccion': 'calle bbb'},\n",
    "    3: {'nombre': 'angel', 'tlf': 666466547, 'direccion': 'calle ccc'},\n",
    "    4: {'nombre': 'patri', 'tlf': 624585237, 'direccion': 'calle ddd'}\n",
    "            }"
   ]
  },
  {
   "cell_type": "code",
   "execution_count": 8,
   "id": "68ca0c74",
   "metadata": {},
   "outputs": [
    {
     "name": "stdout",
     "output_type": "stream",
     "text": [
      "{1: {'nombre': 'paula', 'tlf': 666963488, 'direccion': 'calle aaa'}, 2: {'nombre': 'pedro', 'tlf': 687673525, 'direccion': 'calle bbb'}, 3: {'nombre': 'angel', 'tlf': 666466547, 'direccion': 'calle ccc'}, 4: {'nombre': 'patri', 'tlf': 624585237, 'direccion': 'calle ddd'}}\n"
     ]
    }
   ],
   "source": [
    "print(contactos)"
   ]
  },
  {
   "cell_type": "code",
   "execution_count": 16,
   "id": "26ae51f0",
   "metadata": {},
   "outputs": [],
   "source": [
    "edades = {\"Eva\": 22, \"Paula\": 20, \"Gon\": 10, \"Sergio\":16}"
   ]
  },
  {
   "cell_type": "markdown",
   "id": "fefbf336",
   "metadata": {},
   "source": [
    "# Métodos de diccionarios"
   ]
  },
  {
   "cell_type": "code",
   "execution_count": 17,
   "id": "fa538d0a",
   "metadata": {},
   "outputs": [
    {
     "name": "stdout",
     "output_type": "stream",
     "text": [
      "10\n"
     ]
    }
   ],
   "source": [
    "# Acceder a un valor dada una clave \n",
    "print(edades[\"Gon\"])"
   ]
  },
  {
   "cell_type": "code",
   "execution_count": 18,
   "id": "394abbb9",
   "metadata": {},
   "outputs": [
    {
     "name": "stdout",
     "output_type": "stream",
     "text": [
      "10\n"
     ]
    }
   ],
   "source": [
    "# Otra forma \n",
    "print(edades.get(\"Gon\"))"
   ]
  },
  {
   "cell_type": "code",
   "execution_count": 19,
   "id": "9cdb89c6",
   "metadata": {},
   "outputs": [
    {
     "name": "stdout",
     "output_type": "stream",
     "text": [
      "{'Eva': 22, 'Paula': 20, 'Gon': 10, 'Sergio': 16}\n"
     ]
    }
   ],
   "source": [
    "print(edades)"
   ]
  },
  {
   "cell_type": "code",
   "execution_count": 20,
   "id": "a128e4b5",
   "metadata": {},
   "outputs": [],
   "source": [
    "# Crear un nuevo par clave-valor \n",
    "edades['Pablo'] = 15"
   ]
  },
  {
   "cell_type": "code",
   "execution_count": 21,
   "id": "ea11f955",
   "metadata": {},
   "outputs": [
    {
     "name": "stdout",
     "output_type": "stream",
     "text": [
      "{'Eva': 22, 'Paula': 20, 'Gon': 10, 'Sergio': 16, 'Pablo': 15}\n"
     ]
    }
   ],
   "source": [
    "print(edades)"
   ]
  },
  {
   "cell_type": "code",
   "execution_count": 22,
   "id": "e9aea06c",
   "metadata": {},
   "outputs": [
    {
     "name": "stdout",
     "output_type": "stream",
     "text": [
      "{'Eva': 22, 'Paula': 20, 'Gon': 10, 'Sergio': 14, 'Pablo': 15}\n"
     ]
    }
   ],
   "source": [
    "# Modificar valor dada una clave\n",
    "edades['Sergio'] = 14\n",
    "print(edades)"
   ]
  },
  {
   "cell_type": "code",
   "execution_count": 23,
   "id": "0cd020ac",
   "metadata": {},
   "outputs": [
    {
     "name": "stdout",
     "output_type": "stream",
     "text": [
      "{'Eva': 22, 'Paula': 20, 'Gon': 10, 'Sergio': 14, 'Pablo': 19}\n"
     ]
    }
   ],
   "source": [
    "edades['Pablo'] = 19\n",
    "print(edades)"
   ]
  },
  {
   "cell_type": "code",
   "execution_count": 24,
   "id": "67dd4ef7",
   "metadata": {},
   "outputs": [
    {
     "name": "stdout",
     "output_type": "stream",
     "text": [
      "{'Eva': 22, 'Paula': 20, 'Gon': 10, 'Pablo': 19}\n"
     ]
    }
   ],
   "source": [
    "# Eliminar elemento dada una clave\n",
    "edades.pop(\"Sergio\")\n",
    "print(edades)"
   ]
  },
  {
   "cell_type": "code",
   "execution_count": 25,
   "id": "5d57c65f",
   "metadata": {},
   "outputs": [],
   "source": [
    "# Eliminar todo el diccionario \n",
    "edades.clear()"
   ]
  },
  {
   "cell_type": "code",
   "execution_count": 26,
   "id": "88dda829",
   "metadata": {},
   "outputs": [
    {
     "name": "stdout",
     "output_type": "stream",
     "text": [
      "{}\n"
     ]
    }
   ],
   "source": [
    "print(edades)"
   ]
  },
  {
   "cell_type": "code",
   "execution_count": 27,
   "id": "336d5191",
   "metadata": {},
   "outputs": [],
   "source": [
    "edades = {\"Eva\": 22, \"Paula\": 20, \"Gon\": 10, \"Sergio\":16}"
   ]
  },
  {
   "cell_type": "code",
   "execution_count": 28,
   "id": "b485341e",
   "metadata": {},
   "outputs": [
    {
     "name": "stdout",
     "output_type": "stream",
     "text": [
      "dict_keys(['Eva', 'Paula', 'Gon', 'Sergio'])\n"
     ]
    }
   ],
   "source": [
    "# Nos devuelve las keys \n",
    "print(edades.keys())"
   ]
  },
  {
   "cell_type": "code",
   "execution_count": 29,
   "id": "a9750e3c",
   "metadata": {},
   "outputs": [
    {
     "name": "stdout",
     "output_type": "stream",
     "text": [
      "dict_values([22, 20, 10, 16])\n"
     ]
    }
   ],
   "source": [
    "# Nos devuelve los values\n",
    "print(edades.values())"
   ]
  },
  {
   "cell_type": "code",
   "execution_count": 30,
   "id": "c3ed87e3",
   "metadata": {},
   "outputs": [
    {
     "name": "stdout",
     "output_type": "stream",
     "text": [
      "dict_items([('Eva', 22), ('Paula', 20), ('Gon', 10), ('Sergio', 16)])\n"
     ]
    }
   ],
   "source": [
    "# Nos devuelve los items: los pares key-value\n",
    "print(edades.items())"
   ]
  },
  {
   "cell_type": "code",
   "execution_count": 31,
   "id": "32b10321",
   "metadata": {},
   "outputs": [
    {
     "name": "stdout",
     "output_type": "stream",
     "text": [
      "Eva\n",
      "Paula\n",
      "Gon\n",
      "Sergio\n"
     ]
    }
   ],
   "source": [
    " # Iteramos en las keys\n",
    "for k in edades.keys(): \n",
    "    print(k)"
   ]
  },
  {
   "cell_type": "code",
   "execution_count": 32,
   "id": "6b47ea37",
   "metadata": {},
   "outputs": [
    {
     "name": "stdout",
     "output_type": "stream",
     "text": [
      "22\n",
      "20\n",
      "10\n",
      "16\n"
     ]
    }
   ],
   "source": [
    "for v in edades.values(): \n",
    "    print(v)"
   ]
  },
  {
   "cell_type": "code",
   "execution_count": 34,
   "id": "41bd2125",
   "metadata": {},
   "outputs": [
    {
     "name": "stdout",
     "output_type": "stream",
     "text": [
      "Clave:  Eva  Value: 22\n",
      "Clave:  Paula  Value: 20\n",
      "Clave:  Gon  Value: 10\n",
      "Clave:  Sergio  Value: 16\n"
     ]
    }
   ],
   "source": [
    "for i, j in edades.items():\n",
    "    print(\"Clave: \", i, \" Value:\", j)\n",
    "    "
   ]
  },
  {
   "cell_type": "code",
   "execution_count": null,
   "id": "f60b2352",
   "metadata": {},
   "outputs": [],
   "source": []
  }
 ],
 "metadata": {
  "kernelspec": {
   "display_name": "Python 3 (ipykernel)",
   "language": "python",
   "name": "python3"
  },
  "language_info": {
   "codemirror_mode": {
    "name": "ipython",
    "version": 3
   },
   "file_extension": ".py",
   "mimetype": "text/x-python",
   "name": "python",
   "nbconvert_exporter": "python",
   "pygments_lexer": "ipython3",
   "version": "3.8.16"
  }
 },
 "nbformat": 4,
 "nbformat_minor": 5
}
