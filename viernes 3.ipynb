{
 "cells": [
  {
   "cell_type": "markdown",
   "id": "f3f46756",
   "metadata": {},
   "source": [
    "# Viernes"
   ]
  },
  {
   "cell_type": "markdown",
   "id": "7a461b48",
   "metadata": {},
   "source": [
    "#### Organizador de titulos de peliculas "
   ]
  },
  {
   "cell_type": "code",
   "execution_count": 1,
   "id": "7245c49e",
   "metadata": {},
   "outputs": [],
   "source": [
    "peliculas = {'spiderman': ['12-09-23', '23-06-24'], 'inside out 2': [], 'mamma mia':['25-06-24', '30-09-23']}"
   ]
  },
  {
   "cell_type": "code",
   "execution_count": null,
   "id": "83fff724",
   "metadata": {},
   "outputs": [],
   "source": [
    "# MENU\n",
    "\n",
    "def menu(): \n",
    "    print(\"------------- MENU -------------\")\n",
    "    print(\"1. Añadir pelicula que quieres ver\")\n",
    "    print(\"2. Añadir pelicula con fecha\")\n",
    "    print(\"3. Añadir fecha a una pelicula\")\n",
    "    print(\"4. Eliminar pelicula\")\n",
    "    print(\"5. Ver todas las peliculas con sus fechas\")\n",
    "    print(\"6. Ver todas las peliculas solo titulos (sin fechas)\")\n",
    "    print(\"7. Ver todas las peliculas con 0 fechas \")\n",
    "    print(\"8. Ver todas las peliculas con 2 fechas\")\n",
    "    print(\"9. Salir y ver estadisticas\")\n",
    "    \n"
   ]
  },
  {
   "cell_type": "code",
   "execution_count": 2,
   "id": "2746f10c",
   "metadata": {},
   "outputs": [],
   "source": [
    "#1º: Añadir películas que quieres ver:\n",
    "def anadirPelicula(pelicula):\n",
    "    peliculas[pelicula] = []\n",
    "    return peliculas\n",
    "\n",
    "def anadirPeliFecha(pelicula, fecha):\n",
    "    peliculas[pelicula] = [fecha]\n",
    "    return peliculas\n",
    "\n",
    "def anadiirFechaaPeli(pelicula, fecha):\n",
    "    peliculas[pelicula].append(fecha)\n",
    "    return peliculas\n",
    "\n",
    "def eliminarPeli(pelicula):\n",
    "    peliculas.pop(pelicula)\n",
    "    return pleiculas\n",
    "\n",
    "def verTodo():\n",
    "    for k, v in peliculas.items():\n",
    "        print('Pelicula', k, 'fechas:', v)\n",
    "        \n",
    "def verTitulos():\n",
    "    for k in peliculas.keys():\n",
    "        print(k)\n",
    "        \n",
    "def verPelisNoVistas():\n",
    "    for k, v in peliculas.items():\n",
    "        if(len(v)==0):\n",
    "            print(k)\n",
    "\n",
    "def verPelisVistas2():\n",
    "    for k, v in peliculas.items():\n",
    "        if(len(v)==2):\n",
    "            print(k)"
   ]
  },
  {
   "cell_type": "code",
   "execution_count": 3,
   "id": "69e9b32b",
   "metadata": {},
   "outputs": [
    {
     "ename": "NameError",
     "evalue": "name 'menu' is not defined",
     "output_type": "error",
     "traceback": [
      "\u001b[1;31m---------------------------------------------------------------------------\u001b[0m",
      "\u001b[1;31mNameError\u001b[0m                                 Traceback (most recent call last)",
      "Cell \u001b[1;32mIn[3], line 4\u001b[0m\n\u001b[0;32m      1\u001b[0m fin \u001b[38;5;241m=\u001b[39m \u001b[38;5;28;01mFalse\u001b[39;00m\n\u001b[0;32m      3\u001b[0m \u001b[38;5;28;01mwhile\u001b[39;00m fin \u001b[38;5;241m==\u001b[39m \u001b[38;5;28;01mFalse\u001b[39;00m:\n\u001b[1;32m----> 4\u001b[0m     \u001b[43mmenu\u001b[49m()\n\u001b[0;32m      5\u001b[0m     opc \u001b[38;5;241m=\u001b[39m \u001b[38;5;28mint\u001b[39m(\u001b[38;5;28minput\u001b[39m(\u001b[38;5;124m'\u001b[39m\u001b[38;5;124mElija una opción: \u001b[39m\u001b[38;5;124m'\u001b[39m))\n\u001b[0;32m      6\u001b[0m     \u001b[38;5;28;01mif\u001b[39;00m opc \u001b[38;5;241m==\u001b[39m \u001b[38;5;241m1\u001b[39m:\n",
      "\u001b[1;31mNameError\u001b[0m: name 'menu' is not defined"
     ]
    }
   ],
   "source": [
    "fin = False\n",
    "\n",
    "while fin == False:\n",
    "    menu()\n",
    "    op = int(input(\"Introduce una opcion: \"))\n",
    "    if op == 1: \n",
    "        pelicula = input(\"¿Que pelicula quieres añadir? \")\n",
    "        anadirPelicula(pelicula)"
   ]
  },
  {
   "cell_type": "code",
   "execution_count": null,
   "id": "50927e39",
   "metadata": {},
   "outputs": [],
   "source": []
  },
  {
   "cell_type": "code",
   "execution_count": null,
   "id": "53d44514",
   "metadata": {},
   "outputs": [],
   "source": []
  },
  {
   "cell_type": "code",
   "execution_count": null,
   "id": "77568147",
   "metadata": {},
   "outputs": [],
   "source": []
  },
  {
   "cell_type": "code",
   "execution_count": null,
   "id": "58cccab8",
   "metadata": {},
   "outputs": [],
   "source": []
  },
  {
   "cell_type": "code",
   "execution_count": null,
   "id": "fb57c8e9",
   "metadata": {},
   "outputs": [],
   "source": []
  },
  {
   "cell_type": "code",
   "execution_count": null,
   "id": "be2380e1",
   "metadata": {},
   "outputs": [],
   "source": []
  },
  {
   "cell_type": "code",
   "execution_count": null,
   "id": "b76ba80f",
   "metadata": {},
   "outputs": [],
   "source": []
  },
  {
   "cell_type": "code",
   "execution_count": null,
   "id": "c9393b99",
   "metadata": {},
   "outputs": [],
   "source": []
  }
 ],
 "metadata": {
  "kernelspec": {
   "display_name": "Python 3 (ipykernel)",
   "language": "python",
   "name": "python3"
  },
  "language_info": {
   "codemirror_mode": {
    "name": "ipython",
    "version": 3
   },
   "file_extension": ".py",
   "mimetype": "text/x-python",
   "name": "python",
   "nbconvert_exporter": "python",
   "pygments_lexer": "ipython3",
   "version": "3.8.16"
  }
 },
 "nbformat": 4,
 "nbformat_minor": 5
}
