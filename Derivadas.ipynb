{
 "cells": [
  {
   "cell_type": "markdown",
   "id": "4a1ae3da",
   "metadata": {},
   "source": [
    "# Derivadas"
   ]
  },
  {
   "cell_type": "markdown",
   "id": "92b7cea6",
   "metadata": {},
   "source": [
    "#### Normal"
   ]
  },
  {
   "cell_type": "code",
   "execution_count": 1,
   "id": "d0ece656",
   "metadata": {},
   "outputs": [
    {
     "name": "stdout",
     "output_type": "stream",
     "text": [
      "Función: x**3 + 2*x**2 + 3*x + 5\n",
      "Derivada: 3*x**2 + 4*x + 3\n"
     ]
    }
   ],
   "source": [
    "import sympy as sp\n",
    "\n",
    "# Definir la variable\n",
    "x = sp.symbols('x')\n",
    "\n",
    "# Definir la función\n",
    "funcion = x**3 + 2*x**2 + 3*x + 5\n",
    "\n",
    "# Calcular la derivada\n",
    "derivada = sp.diff(funcion, x)\n",
    "\n",
    "# Mostrar la función y su derivada\n",
    "print(f\"Función: {funcion}\")\n",
    "print(f\"Derivada: {derivada}\")"
   ]
  },
  {
   "cell_type": "markdown",
   "id": "fb8a8ad1",
   "metadata": {},
   "source": [
    "#### Derivadas parciales"
   ]
  },
  {
   "cell_type": "code",
   "execution_count": 2,
   "id": "1a346b7b",
   "metadata": {},
   "outputs": [
    {
     "name": "stdout",
     "output_type": "stream",
     "text": [
      "Función: x**2*y + sin(x)*cos(y)\n",
      "Derivada parcial con respecto a x: 2*x*y + cos(x)*cos(y)\n",
      "Derivada parcial con respecto a y: x**2 - sin(x)*sin(y)\n"
     ]
    }
   ],
   "source": [
    "import sympy as sp\n",
    "\n",
    "# Definir las variables\n",
    "x, y = sp.symbols('x y')\n",
    "\n",
    "# Definir la función\n",
    "funcion = x**2 * y + sp.sin(x) * sp.cos(y)\n",
    "\n",
    "# Calcular las derivadas parciales\n",
    "derivada_x = sp.diff(funcion, x)\n",
    "derivada_y = sp.diff(funcion, y)\n",
    "\n",
    "# Mostrar la función y sus derivadas parciales\n",
    "print(f\"Función: {funcion}\")\n",
    "print(f\"Derivada parcial con respecto a x: {derivada_x}\")\n",
    "print(f\"Derivada parcial con respecto a y: {derivada_y}\")\n"
   ]
  },
  {
   "cell_type": "markdown",
   "id": "5dae5bb5",
   "metadata": {},
   "source": [
    "#### Funciones trigonométricas"
   ]
  },
  {
   "cell_type": "code",
   "execution_count": 3,
   "id": "05821e20",
   "metadata": {},
   "outputs": [
    {
     "name": "stdout",
     "output_type": "stream",
     "text": [
      "Función Trigonométrica: sin(x) + cos(x) + tan(x)\n",
      "Derivada: -sin(x) + cos(x) + tan(x)**2 + 1\n"
     ]
    }
   ],
   "source": [
    "import sympy as sp\n",
    "\n",
    "# Definir la variable\n",
    "x = sp.symbols('x')\n",
    "\n",
    "# Definir la función trigonométrica\n",
    "funcion_trigo = sp.sin(x) + sp.cos(x) + sp.tan(x)\n",
    "\n",
    "# Calcular la derivada\n",
    "derivada_trigo = sp.diff(funcion_trigo, x)\n",
    "\n",
    "# Mostrar la función y su derivada\n",
    "print(f\"Función Trigonométrica: {funcion_trigo}\")\n",
    "print(f\"Derivada: {derivada_trigo}\")\n"
   ]
  },
  {
   "cell_type": "markdown",
   "id": "edc95688",
   "metadata": {},
   "source": [
    "#### Funciones logaritmicas"
   ]
  },
  {
   "cell_type": "code",
   "execution_count": 5,
   "id": "9087a4b2",
   "metadata": {},
   "outputs": [
    {
     "name": "stdout",
     "output_type": "stream",
     "text": [
      "Función Logarítmica: log(x)\n",
      "Derivada: 1/x\n"
     ]
    }
   ],
   "source": [
    "import sympy as sp\n",
    "\n",
    "# Definir la variable\n",
    "x = sp.symbols('x')\n",
    "\n",
    "# Definir la función logarítmica\n",
    "funcion_log = sp.log(x)\n",
    "\n",
    "# Calcular la derivada\n",
    "derivada_log = sp.diff(funcion_log, x)\n",
    "\n",
    "# Mostrar la función y su derivada\n",
    "print(f\"Función Logarítmica: {funcion_log}\")\n",
    "print(f\"Derivada: {derivada_log}\")\n"
   ]
  },
  {
   "cell_type": "markdown",
   "id": "2fc8ed51",
   "metadata": {},
   "source": [
    "#### Funciones exponenciales"
   ]
  },
  {
   "cell_type": "code",
   "execution_count": 7,
   "id": "f364b0de",
   "metadata": {},
   "outputs": [
    {
     "name": "stdout",
     "output_type": "stream",
     "text": [
      "Función Exponencial: exp(x)\n",
      "Derivada: exp(x)\n"
     ]
    }
   ],
   "source": [
    "import sympy as sp\n",
    "\n",
    "# Definir la variable\n",
    "x = sp.symbols('x')\n",
    "\n",
    "# Definir la función exponencial\n",
    "funcion_exp = sp.exp(x)\n",
    "\n",
    "# Calcular la derivada\n",
    "derivada_exp = sp.diff(funcion_exp, x)\n",
    "\n",
    "# Mostrar la función y su derivada\n",
    "print(f\"Función Exponencial: {funcion_exp}\")\n",
    "print(f\"Derivada: {derivada_exp}\")\n"
   ]
  },
  {
   "cell_type": "markdown",
   "id": "3f172370",
   "metadata": {},
   "source": [
    "#### Funciones de orden superior\n"
   ]
  },
  {
   "cell_type": "code",
   "execution_count": 8,
   "id": "ce7d065f",
   "metadata": {},
   "outputs": [
    {
     "name": "stdout",
     "output_type": "stream",
     "text": [
      "Función: x**4 + 3*x**3 + 2*x**2 + x\n",
      "Primera Derivada: 4*x**3 + 9*x**2 + 4*x + 1\n",
      "Segunda Derivada: 12*x**2 + 18*x + 4\n",
      "Tercera Derivada: 24*x + 18\n"
     ]
    }
   ],
   "source": [
    "import sympy as sp\n",
    "\n",
    "# Definir la variable\n",
    "x = sp.symbols('x')\n",
    "\n",
    "# Definir la función\n",
    "funcion = x**4 + 3*x**3 + 2*x**2 + x\n",
    "\n",
    "# Calcular la primera derivada\n",
    "primera_derivada = sp.diff(funcion, x)\n",
    "\n",
    "# Calcular la segunda derivada\n",
    "segunda_derivada = sp.diff(primera_derivada, x)\n",
    "\n",
    "# Calcular la tercera derivada\n",
    "tercera_derivada = sp.diff(segunda_derivada, x)\n",
    "\n",
    "# Mostrar las derivadas\n",
    "print(f\"Función: {funcion}\")\n",
    "print(f\"Primera Derivada: {primera_derivada}\")\n",
    "print(f\"Segunda Derivada: {segunda_derivada}\")\n",
    "print(f\"Tercera Derivada: {tercera_derivada}\")\n"
   ]
  },
  {
   "cell_type": "code",
   "execution_count": null,
   "id": "2a556d6f",
   "metadata": {},
   "outputs": [],
   "source": []
  }
 ],
 "metadata": {
  "kernelspec": {
   "display_name": "Python 3 (ipykernel)",
   "language": "python",
   "name": "python3"
  },
  "language_info": {
   "codemirror_mode": {
    "name": "ipython",
    "version": 3
   },
   "file_extension": ".py",
   "mimetype": "text/x-python",
   "name": "python",
   "nbconvert_exporter": "python",
   "pygments_lexer": "ipython3",
   "version": "3.8.16"
  }
 },
 "nbformat": 4,
 "nbformat_minor": 5
}
