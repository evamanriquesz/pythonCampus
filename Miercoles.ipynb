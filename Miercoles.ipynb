{
 "cells": [
  {
   "cell_type": "markdown",
   "id": "435f4f99",
   "metadata": {},
   "source": [
    "# Miercoles - concurso de miniprogramas"
   ]
  },
  {
   "cell_type": "markdown",
   "id": "54a13799",
   "metadata": {},
   "source": [
    "#### Ejercicio 1 - Contador de palabras\n",
    "Escribe un programa que cuente la frecuencia de cada palabra en una lista de palabras."
   ]
  },
  {
   "cell_type": "code",
   "execution_count": 1,
   "id": "6c1c07af",
   "metadata": {},
   "outputs": [
    {
     "name": "stdout",
     "output_type": "stream",
     "text": [
      "Frecuencia de palabras: {'python': 2, 'es': 3, 'genial': 2, 'divertido': 1}\n"
     ]
    }
   ],
   "source": [
    "# Lista de palabras\n",
    "palabras = [\"python\", \"es\", \"genial\", \"python\", \"es\", \"divertido\", \"genial\", \"es\"]\n",
    "\n",
    "# Diccionario para almacenar la frecuencia de cada palabra\n",
    "contador = {}\n",
    "\n",
    "# Contar la frecuencia de cada palabra\n",
    "for palabra in palabras:\n",
    "    if palabra in contador:\n",
    "        contador[palabra] += 1\n",
    "    else:\n",
    "        contador[palabra] = 1\n",
    "\n",
    "# Imprimir el resultado\n",
    "print(\"Frecuencia de palabras:\", contador)"
   ]
  },
  {
   "cell_type": "markdown",
   "id": "5c5453e0",
   "metadata": {},
   "source": [
    "#### Ejercicio 2: Listado de Compras\n",
    "Crea un programa que gestione una lista de compras. Permite al usuario agregar elementos a la lista y luego imprime la lista completa."
   ]
  },
  {
   "cell_type": "code",
   "execution_count": 2,
   "id": "c61b4d40",
   "metadata": {},
   "outputs": [
    {
     "name": "stdout",
     "output_type": "stream",
     "text": [
      "Introduce un artículo para la lista de compras (o 'salir' para terminar): pan\n",
      "Introduce un artículo para la lista de compras (o 'salir' para terminar): huevos\n",
      "Introduce un artículo para la lista de compras (o 'salir' para terminar): lechuga\n",
      "Introduce un artículo para la lista de compras (o 'salir' para terminar): salir\n",
      "Lista de compras completa: ['pan', 'huevos', 'lechuga', 'salir']\n"
     ]
    }
   ],
   "source": [
    "lista_compras = []\n",
    "\n",
    "# Bucle para agregar elementos a la lista de compras\n",
    "fin = False\n",
    "while fin == False:\n",
    "    item = input(\"Introduce un artículo para la lista de compras (o 'salir' para terminar): \")\n",
    "    lista_compras.append(item)\n",
    "    if item.lower() == 'salir':\n",
    "        fin = True\n",
    "    \n",
    "\n",
    "# Imprimir la lista completa\n",
    "print(\"Lista de compras completa:\", lista_compras)"
   ]
  },
  {
   "cell_type": "markdown",
   "id": "dd88c594",
   "metadata": {},
   "source": [
    "#### Ejercicio 3: Clasificación de Estudiantes\n",
    "Dado un diccionario con los nombres de los estudiantes y sus calificaciones, escribe un programa que clasifique a los estudiantes en categorías de \"Aprobado\" y \"Suspenso\"."
   ]
  },
  {
   "cell_type": "code",
   "execution_count": 4,
   "id": "c958bba1",
   "metadata": {},
   "outputs": [
    {
     "name": "stdout",
     "output_type": "stream",
     "text": [
      "Estudiantes Aprobados: ['Juan', 'Ana', 'Marta', 'Pedro']\n",
      "Estudiantes Suspensos: ['Luis']\n"
     ]
    }
   ],
   "source": [
    "# Diccionario de estudiantes y sus calificaciones\n",
    "estudiantes = {\"Juan\": 8.5, \"Ana\": 6.0, \"Luis\": 3.8, \"Marta\": 9.2, \"Pedro\": 5.5}\n",
    "\n",
    "# Diccionario para almacenar la clasificación\n",
    "clasificacion = {\"Aprobado\": [], \"Suspenso\": []}\n",
    "\n",
    "# Clasificar a los estudiantes\n",
    "for nombre, calificacion in estudiantes.items():\n",
    "    if calificacion >= 5:\n",
    "        clasificacion[\"Aprobado\"].append(nombre)\n",
    "    else:\n",
    "        clasificacion[\"Suspenso\"].append(nombre)\n",
    "\n",
    "# Imprimir la clasificación\n",
    "print(\"Estudiantes Aprobados:\", clasificacion[\"Aprobado\"])\n",
    "print(\"Estudiantes Suspensos:\", clasificacion[\"Suspenso\"])"
   ]
  },
  {
   "cell_type": "markdown",
   "id": "dcf4e975",
   "metadata": {},
   "source": [
    "#### Ejercicio 4: Desglosador de Precios\n",
    "Crea un programa que reciba una lista de precios de productos y calcule el total, el promedio y el precio máximo y mínimo."
   ]
  },
  {
   "cell_type": "code",
   "execution_count": 6,
   "id": "6e7676eb",
   "metadata": {},
   "outputs": [
    {
     "name": "stdout",
     "output_type": "stream",
     "text": [
      "Total: 68.97\n",
      "Promedio: 13.794\n",
      "Precio máximo: 25.0\n",
      "Precio mínimo: 5.49\n"
     ]
    }
   ],
   "source": [
    "# Lista de precios de productos\n",
    "precios = [19.99, 5.49, 25.00, 10.99, 7.50]\n",
    "\n",
    "# Calcular total, promedio, máximo y mínimo\n",
    "total = sum(precios)\n",
    "promedio = total / len(precios)\n",
    "maximo = max(precios)\n",
    "minimo = min(precios)\n",
    "\n",
    "# Imprimir los resultados\n",
    "print(\"Total:\", total)\n",
    "print(\"Promedio:\", promedio)\n",
    "print(\"Precio máximo:\", maximo)\n",
    "print(\"Precio mínimo:\", minimo)"
   ]
  },
  {
   "cell_type": "markdown",
   "id": "cbe54609",
   "metadata": {},
   "source": [
    "#### Ejercicio 5: Juego de Palabras Mezcladas\n",
    "Escribe un programa que mezcle las letras de una palabra y luego pida al usuario que adivine la palabra original."
   ]
  },
  {
   "cell_type": "code",
   "execution_count": 8,
   "id": "330ff3c1",
   "metadata": {},
   "outputs": [
    {
     "name": "stdout",
     "output_type": "stream",
     "text": [
      "Palabra mezclada: opynth\n",
      "Adivina la palabra original: oyyy\n",
      "Intenta de nuevo.\n",
      "Adivina la palabra original: python\n",
      "¡Correcto!\n"
     ]
    }
   ],
   "source": [
    "import random\n",
    "\n",
    "# Palabra original\n",
    "palabra = \"python\"\n",
    "\n",
    "# Mezclar las letras de la palabra\n",
    "letras = list(palabra)\n",
    "random.shuffle(letras)\n",
    "palabra_mezclada = ''.join(letras)\n",
    "\n",
    "# Imprimir la palabra mezclada\n",
    "print(\"Palabra mezclada:\", palabra_mezclada)\n",
    "\n",
    "# Bucle para que el usuario adivine la palabra\n",
    "fin = False\n",
    "while fin == False:\n",
    "    adivinanza = input(\"Adivina la palabra original: \")\n",
    "    if adivinanza == palabra:\n",
    "        print(\"¡Correcto!\")\n",
    "        fin = True\n",
    "    else:\n",
    "        print(\"Intenta de nuevo.\")"
   ]
  },
  {
   "cell_type": "markdown",
   "id": "93c1e1a8",
   "metadata": {},
   "source": [
    "#### Ejercicio 6: Tabla de Multiplicación\n",
    "Crea un programa que genere una tabla de multiplicar para un número dado por el usuario.\n"
   ]
  },
  {
   "cell_type": "code",
   "execution_count": 10,
   "id": "4ffca0f0",
   "metadata": {},
   "outputs": [
    {
     "name": "stdout",
     "output_type": "stream",
     "text": [
      "Introduce un número para generar su tabla de multiplicar: 8\n",
      "Tabla de multiplicar del  8 :\n",
      "8  x  1 = 8\n",
      "8  x  2 = 16\n",
      "8  x  3 = 24\n",
      "8  x  4 = 32\n",
      "8  x  5 = 40\n",
      "8  x  6 = 48\n",
      "8  x  7 = 56\n",
      "8  x  8 = 64\n",
      "8  x  9 = 72\n",
      "8  x  10 = 80\n"
     ]
    }
   ],
   "source": [
    "# Pedir al usuario un número\n",
    "numero = int(input(\"Introduce un número para generar su tabla de multiplicar: \"))\n",
    "\n",
    "# Generar y imprimir la tabla de multiplicar\n",
    "print(\"Tabla de multiplicar del \", numero, \":\")\n",
    "for i in range(1, 11):\n",
    "    print(numero,\" x \", i, \"=\", numero * i)"
   ]
  },
  {
   "cell_type": "markdown",
   "id": "ccda39ad",
   "metadata": {},
   "source": [
    "#### Ejercicio 7: Conteo de Vocales\n",
    "Escribe un programa que cuente el número de cada vocal en una cadena de texto proporcionada por el usuario."
   ]
  },
  {
   "cell_type": "code",
   "execution_count": 11,
   "id": "543a20c1",
   "metadata": {},
   "outputs": [
    {
     "name": "stdout",
     "output_type": "stream",
     "text": [
      "Introduce una cadena de texto: TARDE\n",
      "Conteo de vocales: {'a': 1, 'e': 1, 'i': 0, 'o': 0, 'u': 0}\n"
     ]
    }
   ],
   "source": [
    "# Pedir al usuario una cadena de texto\n",
    "texto = input(\"Introduce una cadena de texto: \").lower()\n",
    "\n",
    "# Diccionario para contar las vocales\n",
    "vocales = {'a': 0, 'e': 0, 'i': 0, 'o': 0, 'u': 0}\n",
    "\n",
    "# Contar las vocales\n",
    "for caracter in texto:\n",
    "    if caracter in vocales:\n",
    "        vocales[caracter] += 1\n",
    "\n",
    "# Imprimir el conteo de vocales\n",
    "print(\"Conteo de vocales:\", vocales)"
   ]
  },
  {
   "cell_type": "markdown",
   "id": "322bfef7",
   "metadata": {},
   "source": [
    "#### Ejercicio 8: Clasificación de Palabras por Longitud\n",
    "Crea un programa que tome una lista de palabras y las clasifique en base a su longitud (corta, mediana y larga).\n"
   ]
  },
  {
   "cell_type": "code",
   "execution_count": 12,
   "id": "d863d2d3",
   "metadata": {},
   "outputs": [
    {
     "name": "stdout",
     "output_type": "stream",
     "text": [
      "Palabras cortas: ['es', 'un', 'de', 'muy']\n",
      "Palabras medianas: ['Python']\n",
      "Palabras largas: ['lenguaje', 'programación', 'versátil']\n"
     ]
    }
   ],
   "source": [
    "# Lista de palabras\n",
    "palabras = [\"Python\", \"es\", \"un\", \"lenguaje\", \"de\", \"programación\", \"muy\", \"versátil\"]\n",
    "\n",
    "# Diccionario para clasificar palabras\n",
    "clasificacion = {\"corta\": [], \"mediana\": [], \"larga\": []}\n",
    "\n",
    "# Clasificar las palabras por longitud\n",
    "for palabra in palabras:\n",
    "    longitud = len(palabra)\n",
    "    if longitud <= 3:\n",
    "        clasificacion[\"corta\"].append(palabra)\n",
    "    elif longitud <= 6:\n",
    "        clasificacion[\"mediana\"].append(palabra)\n",
    "    else:\n",
    "        clasificacion[\"larga\"].append(palabra)\n",
    "\n",
    "# Imprimir la clasificación\n",
    "print(\"Palabras cortas:\", clasificacion[\"corta\"])\n",
    "print(\"Palabras medianas:\", clasificacion[\"mediana\"])\n",
    "print(\"Palabras largas:\", clasificacion[\"larga\"])"
   ]
  },
  {
   "cell_type": "markdown",
   "id": "92d33625",
   "metadata": {},
   "source": [
    "#### Ejercicio 9: Ahorcado \n",
    "Realiza el juego del ahorcado, utilizando como palabra secreta, una palabra aleatoria de una lista de palabras."
   ]
  },
  {
   "cell_type": "code",
   "execution_count": 24,
   "id": "a936f301",
   "metadata": {},
   "outputs": [
    {
     "name": "stdout",
     "output_type": "stream",
     "text": [
      "4\n",
      "cadena\n",
      "['c', 'a', 'd', 'e', 'n', 'a']\n",
      "['_', '_', '_', '_', '_', '_']\n",
      "Introduce una letra: c\n",
      "coincide\n",
      "['c', '_', '_', '_', '_', '_']\n",
      "Introduce una letra: a\n",
      "coincide\n",
      "coincide\n",
      "['c', 'a', '_', '_', '_', 'a']\n",
      "Introduce una letra: d\n",
      "coincide\n",
      "['c', 'a', 'd', '_', '_', 'a']\n",
      "Introduce una letra: e\n",
      "coincide\n",
      "['c', 'a', 'd', 'e', '_', 'a']\n",
      "Introduce una letra: n\n",
      "coincide\n",
      "['c', 'a', 'd', 'e', 'n', 'a']\n"
     ]
    }
   ],
   "source": [
    "import random \n",
    "\n",
    "palabrasPosibles = ['naranja', 'tejado', 'casa', 'rotulador', 'cadena', 'vacaciones']\n",
    "\n",
    "numeroPalabra = random.randint(1, len(palabrasPosibles)-1)\n",
    "print(numeroPalabra)\n",
    "\n",
    "palabraSecreta = palabrasPosibles[numeroPalabra]\n",
    "print(palabraSecreta)\n",
    "\n",
    "palabraSecretaDeletreada = []\n",
    "\n",
    "for letra in palabraSecreta:\n",
    "    palabraSecretaDeletreada.append(letra)\n",
    "    \n",
    "print(palabraSecretaDeletreada)\n",
    "\n",
    "palabraAveriguada = []\n",
    "for i in range(0, len(palabraSecretaDeletreada)): \n",
    "    palabraAveriguada.append(\"_\")\n",
    "    \n",
    "print(palabraAveriguada)\n",
    "\n",
    "fin = False \n",
    "intentosError = 5\n",
    "while fin == False: \n",
    "    letra = (input(\"Introduce una letra: \")).lower()\n",
    "    if letra in palabraSecretaDeletreada: \n",
    "        for i in range(len(palabraSecretaDeletreada)): \n",
    "            if palabraSecretaDeletreada[i] == letra:\n",
    "                print(\"coincide\")\n",
    "                palabraAveriguada[i] = letra\n",
    "    else: \n",
    "        intentosError -= 1\n",
    "    if palabraAveriguada == palabraSecretaDeletreada: \n",
    "        print(\"Has ganado!!!\")\n",
    "        fin = True\n",
    "    if intentosError == 0: \n",
    "        print(\"Has agotado todos tus intentos :(\")\n",
    "        fin = True\n",
    "    print(palabraAveriguada)"
   ]
  },
  {
   "cell_type": "markdown",
   "id": "38313669",
   "metadata": {},
   "source": [
    "#### Ejercicio 10 - Adivinar el numero \n",
    "En este ejercicio, los estudiantes crearán un programa donde la computadora genera un número aleatorio entre 1 y 100, y el jugador tiene que adivinarlo. El programa le dará pistas al jugador si el número secreto es mayor o menor que su intento."
   ]
  },
  {
   "cell_type": "code",
   "execution_count": 1,
   "id": "4a23d555",
   "metadata": {},
   "outputs": [
    {
     "name": "stdout",
     "output_type": "stream",
     "text": [
      "¡Bienvenido al juego de Adivina el Número!\n",
      "He pensado en un número entre 1 y 100. ¿Puedes adivinar cuál es?\n",
      "Introduce tu adivinanza: 45\n",
      "Demasiado bajo. Intenta nuevamente.\n",
      "Introduce tu adivinanza: 78\n",
      "Demasiado alto. Intenta nuevamente.\n",
      "Introduce tu adivinanza: 67\n",
      "Demasiado bajo. Intenta nuevamente.\n",
      "Introduce tu adivinanza: 69\n",
      "Demasiado bajo. Intenta nuevamente.\n",
      "Introduce tu adivinanza: 70\n",
      "Demasiado bajo. Intenta nuevamente.\n",
      "Introduce tu adivinanza: 71\n",
      "Demasiado bajo. Intenta nuevamente.\n",
      "Introduce tu adivinanza: 72\n",
      "Demasiado bajo. Intenta nuevamente.\n",
      "Introduce tu adivinanza: 73\n",
      "Demasiado bajo. Intenta nuevamente.\n",
      "Introduce tu adivinanza: 74\n",
      "Demasiado bajo. Intenta nuevamente.\n",
      "Introduce tu adivinanza: 75\n",
      "Demasiado bajo. Intenta nuevamente.\n",
      "Introduce tu adivinanza: 76\n",
      "Demasiado bajo. Intenta nuevamente.\n",
      "Introduce tu adivinanza: 77\n",
      "¡Felicidades! Adivinaste el número 77 en 12 intentos.\n"
     ]
    }
   ],
   "source": [
    "import random\n",
    "\n",
    "# Función principal del juego\n",
    "\n",
    "numero_secreto = random.randint(1, 100)\n",
    "adivinanza = None\n",
    "intentos = 0\n",
    "\n",
    "print(\"¡Bienvenido al juego de Adivina el Número!\")\n",
    "print(\"He pensado en un número entre 1 y 100. ¿Puedes adivinar cuál es?\")\n",
    "\n",
    "# Bucle principal del juego\n",
    "while adivinanza != numero_secreto:\n",
    "    adivinanza = int(input(\"Introduce tu adivinanza: \"))\n",
    "    intentos += 1\n",
    "\n",
    "    if adivinanza < numero_secreto:\n",
    "        print(\"Demasiado bajo. Intenta nuevamente.\")\n",
    "    elif adivinanza > numero_secreto:\n",
    "        print(\"Demasiado alto. Intenta nuevamente.\")\n",
    "    else:\n",
    "        print(f\"¡Felicidades! Adivinaste el número {numero_secreto} en {intentos} intentos.\")\n"
   ]
  },
  {
   "cell_type": "markdown",
   "id": "38183523",
   "metadata": {},
   "source": [
    "#### Ejercicio 11 - Adivinar contraseña\n",
    "En este ejercicio, los estudiantes crearán un programa que solicita al usuario que ingrese una contraseña. Si la contraseña no es correcta, el programa seguirá pidiendo la contraseña hasta que el usuario la introduzca correctamente."
   ]
  },
  {
   "cell_type": "code",
   "execution_count": null,
   "id": "5236e888",
   "metadata": {},
   "outputs": [],
   "source": [
    "# Definir la contraseña correcta\n",
    "contraseña_correcta = \"python123\"\n",
    "\n",
    "# Solicitar al usuario que ingrese la contraseña\n",
    "contraseña_ingresada = input(\"Introduce la contraseña: \")\n",
    "\n",
    "# Bucle para verificar la contraseña\n",
    "while contraseña_ingresada != contraseña_correcta:\n",
    "    print(\"Contraseña incorrecta. Inténtalo de nuevo.\")\n",
    "    contraseña_ingresada = input(\"Introduce la contraseña: \")\n",
    "\n",
    "print(\"¡Contraseña correcta! Has accedido al sistema.\")\n"
   ]
  }
 ],
 "metadata": {
  "kernelspec": {
   "display_name": "Python 3 (ipykernel)",
   "language": "python",
   "name": "python3"
  },
  "language_info": {
   "codemirror_mode": {
    "name": "ipython",
    "version": 3
   },
   "file_extension": ".py",
   "mimetype": "text/x-python",
   "name": "python",
   "nbconvert_exporter": "python",
   "pygments_lexer": "ipython3",
   "version": "3.8.16"
  }
 },
 "nbformat": 4,
 "nbformat_minor": 5
}
