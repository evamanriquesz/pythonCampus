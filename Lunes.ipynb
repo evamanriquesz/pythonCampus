{
 "cells": [
  {
   "cell_type": "code",
   "execution_count": 1,
   "metadata": {},
   "outputs": [
    {
     "name": "stdout",
     "output_type": "stream",
     "text": [
      "Hola, mundo\n"
     ]
    }
   ],
   "source": [
    "print(\"Hola, mundo\")"
   ]
  },
  {
   "cell_type": "code",
   "execution_count": 2,
   "metadata": {},
   "outputs": [
    {
     "name": "stdout",
     "output_type": "stream",
     "text": [
      "¿Cómo te llamas?eva\n",
      "Hola eva, encantado de conocerte.\n"
     ]
    }
   ],
   "source": [
    "nombre = input(\"¿Cómo te llamas?\")\n",
    "print(\"Hola \" +nombre +\", encantado de conocerte.\")\n"
   ]
  },
  {
   "cell_type": "code",
   "execution_count": 3,
   "metadata": {},
   "outputs": [
    {
     "name": "stdout",
     "output_type": "stream",
     "text": [
      "3\n"
     ]
    }
   ],
   "source": [
    "a = 1\n",
    "b = 2\n",
    "print(a+b)"
   ]
  },
  {
   "cell_type": "code",
   "execution_count": 4,
   "metadata": {},
   "outputs": [],
   "source": [
    "# Tipos de datos \n",
    "\n",
    "# String\n",
    "s = \"Un string tiene palabras\"\n",
    "\n",
    "# int\n",
    "i = 25\n",
    "\n",
    "# float\n",
    "fl = 34.6\n",
    "\n",
    "#boolean \n",
    "es_rubia = True\n"
   ]
  },
  {
   "cell_type": "code",
   "execution_count": 5,
   "metadata": {},
   "outputs": [],
   "source": [
    "#Ficha persona"
   ]
  },
  {
   "cell_type": "code",
   "execution_count": 1,
   "metadata": {},
   "outputs": [],
   "source": [
    "nombre=\"Eva\" \n",
    "edad = 22\n",
    "altura = 1.63"
   ]
  },
  {
   "cell_type": "code",
   "execution_count": 7,
   "metadata": {},
   "outputs": [
    {
     "name": "stdout",
     "output_type": "stream",
     "text": [
      "aaaabbbb\n"
     ]
    }
   ],
   "source": [
    "frase1 = \"aaaa\"\n",
    "frase2 = \"bbbb\"\n",
    "suma_frases = frase1+frase2\n",
    "print(suma_frases)"
   ]
  },
  {
   "cell_type": "code",
   "execution_count": 8,
   "metadata": {},
   "outputs": [
    {
     "name": "stdout",
     "output_type": "stream",
     "text": [
      "39\n"
     ]
    }
   ],
   "source": [
    "numero1 = 14 \n",
    "numero2 = 25\n",
    "suma_numeros = numero1 + numero2\n",
    "print(suma_numeros)"
   ]
  },
  {
   "cell_type": "code",
   "execution_count": 7,
   "metadata": {},
   "outputs": [
    {
     "name": "stdout",
     "output_type": "stream",
     "text": [
      "Introduce el primer número: 2\n",
      "Introduce el segundo número: 3\n",
      "2 + 3 = 5\n"
     ]
    }
   ],
   "source": [
    "numero1_string = input(\"Introduce el primer número: \")\n",
    "numero2_string = input(\"Introduce el segundo número: \")\n",
    "\n",
    "# Convertimos las entradas a enteros\n",
    "numero1 = int(numero1_string)\n",
    "numero2 = int(numero2_string)\n",
    "\n",
    "# Calculamos la suma\n",
    "suma = numero1 + numero2\n",
    "\n",
    "# Mostramos el resultado\n",
    "print(numero1, \"+\", numero2, \"=\", suma)\n"
   ]
  },
  {
   "cell_type": "code",
   "execution_count": 9,
   "metadata": {},
   "outputs": [
    {
     "name": "stdout",
     "output_type": "stream",
     "text": [
      "La suma es:  5\n"
     ]
    }
   ],
   "source": [
    "print(\"La suma es: \", suma)"
   ]
  },
  {
   "cell_type": "code",
   "execution_count": 10,
   "metadata": {},
   "outputs": [
    {
     "name": "stdout",
     "output_type": "stream",
     "text": [
      "Introduce la temperatura en grados Celsius: 45\n",
      "45.0 grados Celsius son 113.0 grados Fahrenheit.\n"
     ]
    }
   ],
   "source": [
    "celsius_string = input(\"Introduce la temperatura en grados Celsius: \")\n",
    "celsius = float(celsius_string)\n",
    "\n",
    "# Fórmula de conversión\n",
    "fahrenheit = (celsius * 9/5) + 32\n",
    "\n",
    "print(celsius, \"grados Celsius son\", fahrenheit, \"grados Fahrenheit.\")\n"
   ]
  },
  {
   "cell_type": "code",
   "execution_count": 11,
   "metadata": {},
   "outputs": [
    {
     "name": "stdout",
     "output_type": "stream",
     "text": [
      "es menor\n"
     ]
    }
   ],
   "source": [
    "#BUCLES \n",
    "#IF\n",
    "x = 5\n",
    "\n",
    "if x<10: \n",
    "    print(\"es menor\")\n",
    "else: \n",
    "    print(\"es mayor\")\n"
   ]
  },
  {
   "cell_type": "code",
   "execution_count": 12,
   "metadata": {},
   "outputs": [
    {
     "name": "stdout",
     "output_type": "stream",
     "text": [
      "es mayor que 10\n"
     ]
    }
   ],
   "source": [
    "x = 13\n",
    "\n",
    "if x<10: \n",
    "    print(\"es menor que 10\")\n",
    "elif x == 10: \n",
    "    print(\"es igual a 10 \")\n",
    "elif x> 10: \n",
    "    print(\"es mayor que 10\")\n"
   ]
  },
  {
   "cell_type": "code",
   "execution_count": 13,
   "metadata": {},
   "outputs": [
    {
     "name": "stdout",
     "output_type": "stream",
     "text": [
      "es mayor que 10\n"
     ]
    }
   ],
   "source": [
    "x = 13\n",
    "\n",
    "if x<10: \n",
    "    print(\"es menor que 10\")\n",
    "elif x == 10: \n",
    "    print(\"es igual a 10 \")\n",
    "else: \n",
    "    print(\"es mayor que 10\")"
   ]
  },
  {
   "cell_type": "code",
   "execution_count": 14,
   "metadata": {},
   "outputs": [],
   "source": [
    "# CALCULADORA"
   ]
  },
  {
   "cell_type": "code",
   "execution_count": 15,
   "metadata": {},
   "outputs": [
    {
     "name": "stdout",
     "output_type": "stream",
     "text": [
      "15\n",
      "5\n",
      "50\n",
      "2.0\n"
     ]
    }
   ],
   "source": [
    "x = 10\n",
    "y = 5\n",
    "\n",
    "suma = x+y\n",
    "print(suma)\n",
    "\n",
    "resta = x-y \n",
    "print(resta)\n",
    "\n",
    "multiplicacion = x*y\n",
    "print(multiplicacion)\n",
    "\n",
    "division = x/y\n",
    "print(division)"
   ]
  },
  {
   "cell_type": "code",
   "execution_count": 16,
   "metadata": {},
   "outputs": [
    {
     "name": "stdout",
     "output_type": "stream",
     "text": [
      "Introduce el primer número: \n",
      "2\n",
      "Introduce el primer número: \n",
      "4\n",
      "Introduce la operacion: suma, resta, multiplicacion, division: \n",
      "suma\n",
      "6\n"
     ]
    }
   ],
   "source": [
    "# Mejora 1: introducir por teclado la operación \n",
    "\n",
    "x = int(input(\"Introduce el primer número: \\n\"))\n",
    "y = int(input(\"Introduce el primer número: \\n\"))\n",
    "operacion = input(\"Introduce la operacion: suma, resta, multiplicacion, division: \\n\")\n",
    "\n",
    "if operacion == \"suma\": \n",
    "    suma = x+y \n",
    "    print(suma)\n",
    "elif operacion == \"resta\": \n",
    "    resta = x-y\n",
    "    print(resta)\n",
    "elif operacion == \"multiplicacion\": \n",
    "    multiplicacion = x*y\n",
    "    print(multiplicacion)\n",
    "elif operacion == \"division\":\n",
    "    division = x/y\n",
    "    print(division)"
   ]
  },
  {
   "cell_type": "code",
   "execution_count": 17,
   "metadata": {},
   "outputs": [],
   "source": [
    "# WHILE"
   ]
  },
  {
   "cell_type": "code",
   "execution_count": 18,
   "metadata": {},
   "outputs": [
    {
     "name": "stdout",
     "output_type": "stream",
     "text": [
      "1\n",
      "2\n",
      "3\n",
      "4\n",
      "5\n",
      "6\n",
      "7\n",
      "8\n",
      "9\n"
     ]
    }
   ],
   "source": [
    "x = 1\n",
    "while (x<10): \n",
    "    print(x)\n",
    "    x = x + 1"
   ]
  },
  {
   "cell_type": "code",
   "execution_count": 19,
   "metadata": {},
   "outputs": [
    {
     "name": "stdout",
     "output_type": "stream",
     "text": [
      "2\n",
      "3\n",
      "4\n",
      "5\n",
      "6\n",
      "7\n",
      "8\n",
      "9\n",
      "10\n"
     ]
    }
   ],
   "source": [
    "x = 1\n",
    "while (x<10): \n",
    "    x = x + 1\n",
    "    print(x)"
   ]
  },
  {
   "cell_type": "code",
   "execution_count": 24,
   "metadata": {},
   "outputs": [
    {
     "name": "stdout",
     "output_type": "stream",
     "text": [
      "introduce lo que quieras: \n",
      "a\n",
      "introduce lo que quieras: \n",
      "f\n",
      "introduce lo que quieras: \n",
      "b\n",
      "introduce lo que quieras: \n",
      "fin\n"
     ]
    }
   ],
   "source": [
    "var = \"a\"\n",
    "while var != \"fin\": \n",
    "    var = input(\"introduce lo que quieras: \\n\")"
   ]
  },
  {
   "cell_type": "code",
   "execution_count": 1,
   "metadata": {},
   "outputs": [],
   "source": [
    "# FUNCIONES\n",
    "\n",
    "def sumar(x, y): \n",
    "    return x+y\n",
    "\n",
    "def restar( x,  y): \n",
    "    return x-y\n",
    "\n",
    "def multiplicar( x,  y): \n",
    "    return x*y\n",
    "\n",
    "def dividir( x,  y): \n",
    "    return x/y\n",
    "\n"
   ]
  },
  {
   "cell_type": "code",
   "execution_count": 2,
   "metadata": {},
   "outputs": [
    {
     "name": "stdout",
     "output_type": "stream",
     "text": [
      "MENU CALCULADORA\n",
      "----------------\n",
      "1. Sumar\n",
      "2. Restar\n",
      "3. Multiplicar\n",
      "4. Dividir\n",
      "5. Salir\n",
      "Introduce la operación que desees: \n",
      "4\n",
      "Número 1: \n",
      " 5\n",
      "Número 2: \n",
      "3\n",
      "5 / 3 = 1.6666666666666667 \n",
      "\n",
      "MENU CALCULADORA\n",
      "----------------\n",
      "1. Sumar\n",
      "2. Restar\n",
      "3. Multiplicar\n",
      "4. Dividir\n",
      "5. Salir\n",
      "Introduce la operación que desees: \n",
      "5\n",
      "Hasta pronto!\n"
     ]
    }
   ],
   "source": [
    "opcion = 0\n",
    "\n",
    "while opcion != 5: \n",
    "    print(\"MENU CALCULADORA\")\n",
    "    print(\"----------------\")\n",
    "    print(\"1. Sumar\")\n",
    "    print(\"2. Restar\")\n",
    "    print(\"3. Multiplicar\")\n",
    "    print(\"4. Dividir\")\n",
    "    print(\"5. Salir\")\n",
    "    \n",
    "    opcion = int(input(\"Introduce la operación que desees: \\n\"))\n",
    "    if(opcion < 5):\n",
    "        var1 = int(input(\"Número 1: \\n \"))\n",
    "        var2 = int(input(\"Número 2: \\n\"))\n",
    "\n",
    "    if (opcion == 1): \n",
    "        suma = sumar(var1, var2)\n",
    "        print(var1, \"+\", var2, \"=\", suma, \"\\n\")\n",
    "    elif (opcion ==2): \n",
    "        resta = restar(var1, var2)\n",
    "        print(var1, \"-\", var2, \"=\", resta, \"\\n\")\n",
    "    elif (opcion == 3): \n",
    "        multiplicacion = multiplicar(var1, var2)\n",
    "        print(var1, \"*\", var2, \"=\", multiplicacion, \"\\n\")\n",
    "    elif(opcion == 4): \n",
    "        division = dividir(var1, var2)\n",
    "        print(var1, \"/\", var2, \"=\", division, \"\\n\")\n",
    "    elif(opcion == 5): \n",
    "        print(\"Hasta pronto!\")\n",
    "            \n",
    "\n"
   ]
  },
  {
   "cell_type": "code",
   "execution_count": 14,
   "metadata": {},
   "outputs": [
    {
     "name": "stdout",
     "output_type": "stream",
     "text": [
      "6.123233995736766e-17\n",
      "1.0\n",
      "1.633123935319537e+16\n",
      "12.0\n",
      "8.0\n"
     ]
    }
   ],
   "source": [
    "#Mejorar la calculadora con raices cuadradas, cosenos, etc --> MATH \n",
    "import math\n",
    "angulo_grados = 90\n",
    "angulo_radianes = math.radians(angulo_grados)\n",
    "\n",
    "coseno = math.cos(angulo_radianes)\n",
    "print(coseno)\n",
    "\n",
    "seno = math.sin(angulo_radianes)\n",
    "print(seno)\n",
    "\n",
    "tangente = math.tan(angulo_radianes)\n",
    "print(tangente)\n",
    "\n",
    "raiz_cuadrada = math.sqrt(144)\n",
    "print(raiz_cuadrada)\n",
    "\n",
    "dos_elevado_a_tres = math.pow(2,3)\n",
    "print(dos_elevado_a_tres)"
   ]
  },
  {
   "cell_type": "code",
   "execution_count": 1,
   "metadata": {},
   "outputs": [],
   "source": [
    "# FUNCIONES\n",
    "import math\n",
    "def sumar(x, y): \n",
    "    return x+y\n",
    "\n",
    "def restar( x,  y): \n",
    "    return x-y\n",
    "\n",
    "def multiplicar( x,  y): \n",
    "    return x*y\n",
    "\n",
    "def dividir( x,  y): \n",
    "    return x/y\n",
    "\n",
    "def XelevadoY(x,y): \n",
    "    return math.pow(x,y)\n",
    "\n",
    "def coseno(x): \n",
    "    angulo_radianes = math.radians(x)\n",
    "    coseno = math.cos(angulo_radianes)\n",
    "    return coseno\n",
    "\n",
    "def seno(x): \n",
    "    angulo_radianes = math.radians(x)\n",
    "    seno = math.sin(angulo_radianes)\n",
    "    return seno\n",
    "\n",
    "def tangente(x): \n",
    "    angulo_radianes = math.radians(x)\n",
    "    tangente = math.tan(angulo_radianes)\n",
    "    return tangente\n",
    "\n",
    "def raiz(x): \n",
    "    return math.sqrt(x)\n",
    "\n",
    "\n",
    "\n",
    "    "
   ]
  },
  {
   "cell_type": "code",
   "execution_count": 2,
   "metadata": {},
   "outputs": [
    {
     "name": "stdout",
     "output_type": "stream",
     "text": [
      "Introduce la operación que desees: \n",
      "10\n",
      "Hasta pronto!\n"
     ]
    }
   ],
   "source": [
    "opcion = 0\n",
    "\n",
    "while opcion != 10: \n",
    "    print(\"MENU CALCULADORA\")\n",
    "    print(\"----------------\")\n",
    "    print(\"1. Sumar\")\n",
    "    print(\"2. Restar\")\n",
    "    print(\"3. Multiplicar\")\n",
    "    print(\"4. Dividir\")\n",
    "    print(\"5. X elevado a Y\")\n",
    "    print(\"6. Coseno\")\n",
    "    print(\"7. Seno\")\n",
    "    print(\"8. Tangente\")\n",
    "    print(\"9. Raiz cuadrada \")\n",
    "    print(\"10. Salir\")\n",
    "    \n",
    "    opcion = int(input(\"Introduce la operación que desees: \\n\"))\n",
    "    if(opcion <6):\n",
    "        var1 = int(input(\"Número 1: \\n \"))\n",
    "        var2 = int(input(\"Número 2: \\n\"))\n",
    "    elif ((opcion>6) and (opcion<10)): \n",
    "        var1 = int(input(\"Número: \\n \"))\n",
    "        \n",
    "    if (opcion == 1): \n",
    "        suma = sumar(var1, var2)\n",
    "        print(var1, \"+\", var2, \"=\", suma, \"\\n\")\n",
    "    elif (opcion ==2): \n",
    "        resta = restar(var1, var2)\n",
    "        print(var1, \"-\", var2, \"=\", resta, \"\\n\")\n",
    "    elif (opcion == 3): \n",
    "        multiplicacion = multiplicar(var1, var2)\n",
    "        print(var1, \"*\", var2, \"=\", multiplicacion, \"\\n\")\n",
    "    elif(opcion == 4): \n",
    "        division = dividir(var1, var2)\n",
    "        print(var1, \"/\", var2, \"=\", division, \"\\n\")\n",
    "    elif(opcion == 5): \n",
    "        XelevadoY_res = XelevadoY(var1,var2); \n",
    "        print(var1,\"elevado a \", var2, \" = \", XelevadoY_res)\n",
    "    elif(opcion == 6): \n",
    "        coseno_res = coseno(var1)\n",
    "        print(\"cos \", var1, \" = \", coseno_res)\n",
    "    elif(opcion == 7): \n",
    "        seno_res = seno(var1)\n",
    "        print(\"sin \", var1, \" = \", seno_res)\n",
    "    elif(opcion == 8): \n",
    "        tangente_res = tangente(var1)\n",
    "        print(\"tan \", var1, \" = \", tangente_res)\n",
    "    elif(opcion == 9): \n",
    "        raiz_res = raiz(var1)\n",
    "        print(\"rain \", var1, \" = \", raiz_res)\n",
    "    elif(opcion == 10): \n",
    "        print(\"Hasta pronto!\")\n",
    "            \n",
    "\n"
   ]
  },
  {
   "cell_type": "code",
   "execution_count": null,
   "metadata": {},
   "outputs": [],
   "source": []
  },
  {
   "cell_type": "code",
   "execution_count": 3,
   "metadata": {},
   "outputs": [],
   "source": []
  },
  {
   "cell_type": "code",
   "execution_count": null,
   "metadata": {},
   "outputs": [],
   "source": []
  },
  {
   "cell_type": "code",
   "execution_count": null,
   "metadata": {},
   "outputs": [],
   "source": []
  },
  {
   "cell_type": "code",
   "execution_count": null,
   "metadata": {},
   "outputs": [],
   "source": []
  }
 ],
 "metadata": {
  "kernelspec": {
   "display_name": "Python 3",
   "language": "python",
   "name": "python3"
  },
  "language_info": {
   "codemirror_mode": {
    "name": "ipython",
    "version": 3
   },
   "file_extension": ".py",
   "mimetype": "text/x-python",
   "name": "python",
   "nbconvert_exporter": "python",
   "pygments_lexer": "ipython3",
   "version": "3.8.5"
  }
 },
 "nbformat": 4,
 "nbformat_minor": 4
}
