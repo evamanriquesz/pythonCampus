{
 "cells": [
  {
   "cell_type": "markdown",
   "id": "ae9a86fb",
   "metadata": {},
   "source": [
    "# Tipos de datos "
   ]
  },
  {
   "cell_type": "code",
   "execution_count": 1,
   "id": "d7026cdf",
   "metadata": {},
   "outputs": [],
   "source": [
    "# String\n",
    "s = \"Un string tiene palabras\"\n",
    "\n",
    "# int\n",
    "i = 25\n",
    "\n",
    "# float\n",
    "fl = 34.6\n",
    "\n",
    "#boolean \n",
    "x = True\n"
   ]
  },
  {
   "cell_type": "code",
   "execution_count": 2,
   "id": "bc9f2bf2",
   "metadata": {},
   "outputs": [
    {
     "name": "stdout",
     "output_type": "stream",
     "text": [
      "25\n"
     ]
    }
   ],
   "source": [
    "print(i)"
   ]
  },
  {
   "cell_type": "code",
   "execution_count": 3,
   "id": "a64ac64f",
   "metadata": {},
   "outputs": [
    {
     "name": "stdout",
     "output_type": "stream",
     "text": [
      "Un string tiene palabras\n"
     ]
    }
   ],
   "source": [
    "print(s)"
   ]
  },
  {
   "cell_type": "code",
   "execution_count": 7,
   "id": "86aad371",
   "metadata": {},
   "outputs": [
    {
     "name": "stdout",
     "output_type": "stream",
     "text": [
      "Introduce un nombre: \n",
      " \n",
      "Eva\n"
     ]
    }
   ],
   "source": [
    "nombre = input(\"Introduce un nombre: \\n \\n\")"
   ]
  },
  {
   "cell_type": "code",
   "execution_count": 8,
   "id": "0767c754",
   "metadata": {},
   "outputs": [
    {
     "name": "stdout",
     "output_type": "stream",
     "text": [
      "Eva\n"
     ]
    }
   ],
   "source": [
    "print(nombre)"
   ]
  },
  {
   "cell_type": "code",
   "execution_count": 20,
   "id": "6a14b103",
   "metadata": {},
   "outputs": [
    {
     "name": "stdout",
     "output_type": "stream",
     "text": [
      "Introduce tu edad: 22\n"
     ]
    }
   ],
   "source": [
    "edad = input(\"Introduce tu edad: \")\n",
    "edad_int = int(edad) #Convierte a numero entero"
   ]
  },
  {
   "cell_type": "code",
   "execution_count": 10,
   "id": "50ee9e4f",
   "metadata": {},
   "outputs": [
    {
     "data": {
      "text/plain": [
       "str"
      ]
     },
     "execution_count": 10,
     "metadata": {},
     "output_type": "execute_result"
    }
   ],
   "source": [
    "type(edad)"
   ]
  },
  {
   "cell_type": "code",
   "execution_count": 11,
   "id": "5f5cb210",
   "metadata": {},
   "outputs": [
    {
     "data": {
      "text/plain": [
       "int"
      ]
     },
     "execution_count": 11,
     "metadata": {},
     "output_type": "execute_result"
    }
   ],
   "source": [
    "type(edad_int)"
   ]
  },
  {
   "cell_type": "code",
   "execution_count": 12,
   "id": "58f6e889",
   "metadata": {},
   "outputs": [
    {
     "name": "stdout",
     "output_type": "stream",
     "text": [
      "Introduce tu edad: 22\n"
     ]
    }
   ],
   "source": [
    "#edad = int(input(\"Introduce tu edad: \"))"
   ]
  },
  {
   "cell_type": "code",
   "execution_count": 13,
   "id": "2838e210",
   "metadata": {},
   "outputs": [
    {
     "name": "stdout",
     "output_type": "stream",
     "text": [
      "Hola\n"
     ]
    }
   ],
   "source": [
    "print(\"Hola\")"
   ]
  },
  {
   "cell_type": "code",
   "execution_count": 14,
   "id": "33b55ce0",
   "metadata": {},
   "outputs": [
    {
     "name": "stdout",
     "output_type": "stream",
     "text": [
      "Hola Eva\n"
     ]
    }
   ],
   "source": [
    "print(\"Hola\", nombre)"
   ]
  },
  {
   "cell_type": "code",
   "execution_count": 16,
   "id": "3f6302eb",
   "metadata": {},
   "outputs": [
    {
     "name": "stdout",
     "output_type": "stream",
     "text": [
      "Hola Eva tienes 22 años\n"
     ]
    }
   ],
   "source": [
    "print(\"Hola\", nombre, \"tienes\", edad_int, \"años\") #CONCATENAR"
   ]
  },
  {
   "cell_type": "code",
   "execution_count": 31,
   "id": "0c6642cc",
   "metadata": {},
   "outputs": [],
   "source": [
    "x = \"15\"\n",
    "y = float(x)"
   ]
  },
  {
   "cell_type": "code",
   "execution_count": 32,
   "id": "c4949148",
   "metadata": {},
   "outputs": [
    {
     "data": {
      "text/plain": [
       "str"
      ]
     },
     "execution_count": 32,
     "metadata": {},
     "output_type": "execute_result"
    }
   ],
   "source": [
    "type(x)"
   ]
  },
  {
   "cell_type": "code",
   "execution_count": 33,
   "id": "367557f6",
   "metadata": {},
   "outputs": [
    {
     "data": {
      "text/plain": [
       "float"
      ]
     },
     "execution_count": 33,
     "metadata": {},
     "output_type": "execute_result"
    }
   ],
   "source": [
    "type(y)"
   ]
  },
  {
   "cell_type": "code",
   "execution_count": 34,
   "id": "9f658cf4",
   "metadata": {},
   "outputs": [
    {
     "name": "stdout",
     "output_type": "stream",
     "text": [
      "15.0\n"
     ]
    }
   ],
   "source": [
    "print(y)"
   ]
  },
  {
   "cell_type": "code",
   "execution_count": 37,
   "id": "1528344f",
   "metadata": {},
   "outputs": [
    {
     "name": "stdout",
     "output_type": "stream",
     "text": [
      "Intro un numero: 2\n",
      "Intro otro numero: 3\n",
      "23\n"
     ]
    }
   ],
   "source": [
    "num1 = input(\"Intro un numero: \")\n",
    "num2 = input(\"Intro otro numero: \")\n",
    "print(num1+num2)"
   ]
  },
  {
   "cell_type": "code",
   "execution_count": 38,
   "id": "126968c7",
   "metadata": {},
   "outputs": [
    {
     "name": "stdout",
     "output_type": "stream",
     "text": [
      "Intro un numero: 2\n",
      "Intro otro numero: 3\n",
      "5\n"
     ]
    }
   ],
   "source": [
    "num1 = int(input(\"Intro un numero: \"))\n",
    "num2 = int(input(\"Intro otro numero: \"))\n",
    "print(num1+num2)"
   ]
  },
  {
   "cell_type": "code",
   "execution_count": 39,
   "id": "eee9dfb6",
   "metadata": {},
   "outputs": [],
   "source": [
    "# Pasar de grados celsius a grados farenheit \n",
    "# PASO 1: pedir un numero por pantalla y convertirlo en float  \n",
    "# ... --> llamar la variable celsius\n",
    "\n",
    "#celsius = #...\n",
    "\n",
    "# PASO 2: convertirlo usando la formula \n",
    "#fahrenheit = (celsius * 9/5) + 32\n",
    "\n",
    "# PASO 3: hacer print en bonito; La temperatura en celsius es XXX y \n",
    "# en farenheit es XX\n",
    "\n",
    "#print(...)\n",
    "\n",
    "# celsius = (farenheit - 32) / (9/5)"
   ]
  },
  {
   "cell_type": "code",
   "execution_count": 40,
   "id": "20547549",
   "metadata": {},
   "outputs": [
    {
     "name": "stdout",
     "output_type": "stream",
     "text": [
      "Introduce la temperatura en grados Celsius: 34\n",
      "34.0 grados Celsius son 93.2 grados Fahrenheit.\n"
     ]
    }
   ],
   "source": [
    "celsius_string = input(\"Introduce la temperatura en grados Celsius: \")\n",
    "celsius = float(celsius_string)\n",
    "\n",
    "# Fórmula de conversión\n",
    "fahrenheit = (celsius * 9/5) + 32\n",
    "\n",
    "print(celsius, \"grados Celsius son\", fahrenheit, \"grados Fahrenheit.\")\n"
   ]
  },
  {
   "cell_type": "markdown",
   "id": "d1f88c7b",
   "metadata": {},
   "source": [
    "# CONDICIONALES IF, ELIF, ELSE"
   ]
  },
  {
   "cell_type": "code",
   "execution_count": 43,
   "id": "976006cd",
   "metadata": {},
   "outputs": [
    {
     "name": "stdout",
     "output_type": "stream",
     "text": [
      "Es mayor que 20\n"
     ]
    }
   ],
   "source": [
    "#if --> si...\n",
    "#else --> sino ...\n",
    "#else if --> elif --> sino, si.... \n",
    "\n",
    "x = 30\n",
    "if x <= 20: \n",
    "    print(\"Es menor que 20\")\n",
    "else: \n",
    "    print(\"Es mayor que 20\")"
   ]
  },
  {
   "cell_type": "code",
   "execution_count": 47,
   "id": "7fc772b7",
   "metadata": {},
   "outputs": [
    {
     "name": "stdout",
     "output_type": "stream",
     "text": [
      "Es mayor que 40 y menor que 60\n"
     ]
    }
   ],
   "source": [
    "x = 50\n",
    "if x <= 20: \n",
    "    print(\"Es mayor que 0 y menor que 20\")\n",
    "elif (x>20) and (x<=40): \n",
    "    print(\"Es mayor que 20 y menor que 40\")\n",
    "elif (x>40) and (x<=60): \n",
    "    print(\"Es mayor que 40 y menor que 60\")\n",
    "else: \n",
    "    print(\"Es mayor que 60\")"
   ]
  },
  {
   "cell_type": "code",
   "execution_count": 45,
   "id": "0fe2d939",
   "metadata": {},
   "outputs": [
    {
     "name": "stdout",
     "output_type": "stream",
     "text": [
      "Es mayor que 20 y menor que 40\n"
     ]
    }
   ],
   "source": [
    "x = 30\n",
    "if x <= 20: \n",
    "    print(\"Es mayor que 0 y menor que 20\")\n",
    "elif (x>20) and (x<=40): \n",
    "    print(\"Es mayor que 20 y menor que 40\")\n",
    "elif (x>40) and (x<=60): \n",
    "    print(\"Es mayor que 40 y menor que 60\")\n"
   ]
  },
  {
   "cell_type": "code",
   "execution_count": null,
   "id": "0f8bcf72",
   "metadata": {},
   "outputs": [],
   "source": [
    "# Ejercicio Ejemplo \n",
    "\n",
    "#Pedir edad por teclado --> convertirla a int \n",
    "\n",
    "# Con if, elif, else \n",
    "# si edad menor que 12 --> va a primaria \n",
    "# si edad es entre 12 y 16 --> va a la eso \n",
    "# si edad es entre 16 y 18 --> va a bachillerato \n",
    "# si edad es mayor que 18 --> va a la uni\n",
    "\n"
   ]
  },
  {
   "cell_type": "markdown",
   "id": "83d2abd2",
   "metadata": {},
   "source": [
    "#  Librerías"
   ]
  },
  {
   "cell_type": "code",
   "execution_count": 52,
   "id": "cdb7a69f",
   "metadata": {},
   "outputs": [],
   "source": [
    "import math\n",
    "import numpy as np\n",
    "import matplotlib.pyplot as plt\n",
    "import random"
   ]
  },
  {
   "cell_type": "code",
   "execution_count": 50,
   "id": "1cafbf9d",
   "metadata": {},
   "outputs": [
    {
     "name": "stdout",
     "output_type": "stream",
     "text": [
      "el coseno de 45 es 0.7071067811865476\n"
     ]
    }
   ],
   "source": [
    "num = 45\n",
    "num_rad = math.radians(num)\n",
    "num_cos = math.cos(num_rad)\n",
    "print('el coseno de', num, 'es', num_cos)"
   ]
  },
  {
   "cell_type": "code",
   "execution_count": 51,
   "id": "452564f2",
   "metadata": {},
   "outputs": [
    {
     "name": "stdout",
     "output_type": "stream",
     "text": [
      "la raíz de 144 es 12.0\n"
     ]
    }
   ],
   "source": [
    "num = 144\n",
    "raiz = math.sqrt(num)\n",
    "print('la raíz de', num, 'es', raiz)"
   ]
  },
  {
   "cell_type": "markdown",
   "id": "66e8cf8d",
   "metadata": {},
   "source": [
    "# Funciones"
   ]
  },
  {
   "cell_type": "code",
   "execution_count": 73,
   "id": "a61bf863",
   "metadata": {},
   "outputs": [],
   "source": [
    "def saludar(nombre):\n",
    "    saludo = 'Hola '+ nombre\n",
    "    return saludo"
   ]
  },
  {
   "cell_type": "code",
   "execution_count": 74,
   "id": "ef2776b1",
   "metadata": {},
   "outputs": [],
   "source": [
    "saludoRecibido = saludar('Eva')"
   ]
  },
  {
   "cell_type": "code",
   "execution_count": 75,
   "id": "640171bf",
   "metadata": {},
   "outputs": [
    {
     "name": "stdout",
     "output_type": "stream",
     "text": [
      "Hola Eva\n"
     ]
    }
   ],
   "source": [
    "print(saludoRecibido)"
   ]
  },
  {
   "cell_type": "code",
   "execution_count": 78,
   "id": "85c62910",
   "metadata": {},
   "outputs": [],
   "source": [
    "def saludarEdad(nombre, edad):\n",
    "    saludo = 'Hola '+ nombre + ' tienes ' + str(edad) + ' años'\n",
    "    return  'Hola '+ nombre + ' tienes ' + str(edad) + ' años'"
   ]
  },
  {
   "cell_type": "code",
   "execution_count": 79,
   "id": "cc92a99c",
   "metadata": {},
   "outputs": [
    {
     "data": {
      "text/plain": [
       "'Hola Eva tienes 22 años'"
      ]
     },
     "execution_count": 79,
     "metadata": {},
     "output_type": "execute_result"
    }
   ],
   "source": [
    "saludarEdad('Eva', 22)"
   ]
  },
  {
   "cell_type": "code",
   "execution_count": null,
   "id": "21094ce8",
   "metadata": {},
   "outputs": [],
   "source": [
    "def saludarSolo(): \n",
    "    saludo = \"Hola\"\n",
    "    return saludo"
   ]
  },
  {
   "cell_type": "code",
   "execution_count": 86,
   "id": "5b8dc135",
   "metadata": {},
   "outputs": [],
   "source": [
    "def calcularSuma(num1, num2):\n",
    "    suma = num1+num2 \n",
    "    return suma\n"
   ]
  },
  {
   "cell_type": "code",
   "execution_count": 91,
   "id": "1431cb66",
   "metadata": {},
   "outputs": [],
   "source": [
    "resultadoSuma = calcularSuma(3,8)"
   ]
  },
  {
   "cell_type": "code",
   "execution_count": 92,
   "id": "5bde196f",
   "metadata": {},
   "outputs": [
    {
     "name": "stdout",
     "output_type": "stream",
     "text": [
      "Correcto\n"
     ]
    }
   ],
   "source": [
    "if resultadoSuma > 10: \n",
    "    print(\"Correcto\")"
   ]
  },
  {
   "cell_type": "markdown",
   "id": "6ee28d22",
   "metadata": {},
   "source": [
    "# Calculadora"
   ]
  },
  {
   "cell_type": "code",
   "execution_count": 94,
   "id": "ac9f4e36",
   "metadata": {},
   "outputs": [],
   "source": [
    "def calcularSuma(num1, num2):\n",
    "    suma = num1+num2 \n",
    "    return suma\n",
    "\n",
    "def calcularResta(num1, num2): \n",
    "    resta = num1-num2 \n",
    "    return resta\n",
    "   \n",
    "def calcularMultiplicacion(num1, num2): \n",
    "    mult = num1*num2 \n",
    "    return mult\n",
    "\n",
    "def calcularDivision(num1, num2): \n",
    "    divi = num1*num2 \n",
    "    return divi\n",
    "\n",
    "def calcularCos(num_grados): \n",
    "    num_rad = math.radians(num_grados)\n",
    "    num_cos = math.cos(num_rad)\n",
    "    return num_cos\n",
    "\n",
    "def calcularSin(num_grados):\n",
    "    num_rad = math.radians(num_grados)\n",
    "    num_sin = math.sin(num_rad)\n",
    "    return num_sin\n",
    "    \n",
    "def calcularTan(num_grados):\n",
    "    num_rad = math.radians(num_grados)\n",
    "    num_tan = math.tan(num_rad)\n",
    "    return num_tan\n",
    "\n",
    "def calcularRaiz(num):\n",
    "    raiz = math.sqrt(num)\n",
    "    return raiz\n",
    "\n",
    "def menu():\n",
    "    print(\"MENU CALCULADORA\")\n",
    "    print(\"------------------------\")\n",
    "    print(\"1. Sumar\")\n",
    "    print(\"2. Restar\")\n",
    "    print(\"3. Multiplicar\")\n",
    "    print(\"4. Dividir\")\n",
    "    print(\"5. Coseno\")\n",
    "    print(\"6. Seno\")\n",
    "    print(\"7. Tangente\")\n",
    "    print(\"8. Raiz cuadrada \")\n",
    "    print(\"9. Salir\")"
   ]
  },
  {
   "cell_type": "code",
   "execution_count": 95,
   "id": "3e0c93d8",
   "metadata": {},
   "outputs": [
    {
     "name": "stdout",
     "output_type": "stream",
     "text": [
      "MENU CALCULADORA\n",
      "------------------------\n",
      "1. Sumar\n",
      "2. Restar\n",
      "3. Multiplicar\n",
      "4. Dividir\n",
      "5. Coseno\n",
      "6. Seno\n",
      "7. Tangente\n",
      "8. Raiz cuadrada \n",
      "9. Salir\n"
     ]
    }
   ],
   "source": [
    "menu()"
   ]
  },
  {
   "cell_type": "code",
   "execution_count": null,
   "id": "f0eea5ed",
   "metadata": {},
   "outputs": [
    {
     "name": "stdout",
     "output_type": "stream",
     "text": [
      "MENU CALCULADORA\n",
      "------------------------\n",
      "1. Sumar\n",
      "2. Restar\n",
      "3. Multiplicar\n",
      "4. Dividir\n",
      "5. Coseno\n",
      "6. Seno\n",
      "7. Tangente\n",
      "8. Raiz cuadrada \n",
      "9. Salir\n",
      "Elige una opción: 1\n",
      "Introduce el 1º número: 4\n",
      "Introduce el 2º número: 5\n",
      "Operación: 4 + 5 = 9\n",
      "MENU CALCULADORA\n",
      "------------------------\n",
      "1. Sumar\n",
      "2. Restar\n",
      "3. Multiplicar\n",
      "4. Dividir\n",
      "5. Coseno\n",
      "6. Seno\n",
      "7. Tangente\n",
      "8. Raiz cuadrada \n",
      "9. Salir\n"
     ]
    }
   ],
   "source": [
    "fin = False\n",
    "while fin == False: \n",
    "    menu()\n",
    "    opcion = int(input('Elige una opción: '))\n",
    "    if opcion <=4: \n",
    "        num1 = int(input('Introduce el 1º número: '))\n",
    "        num2 = int(input('Introduce el 2º número: '))\n",
    "        if opcion == 1:\n",
    "            resultado_suma = calcularSuma(num1, num2)\n",
    "            print(\"Operación:\", num1, \"+\", num2, \"=\", resultado_suma)\n",
    "        elif opcion == 2: \n",
    "            resultado_resta = calcularResta(num1, num2)\n",
    "            print(\"Operación:\", num1, \"-\", num2, \"=\", resultado_resta)\n",
    "        elif opcion == 3:   \n",
    "            resultado_mult = calcularMultiplicacion(num1, num2)\n",
    "            print(\"Operación:\", num1, \"*\", num2, \"=\", resultado_mult)\n",
    "        elif opcion == 4:  \n",
    "            resultado_divi = calcularDivision(num1, num2)\n",
    "            print(\"Operación:\", num1, \"/\", num2, \"=\", resultado_divi)\n",
    "            \n",
    "    elif opcion>4 and opcion <=8: \n",
    "        num = int(input('Introduce un número: '))\n",
    "        if opcion == 5:  \n",
    "            resultado_cos = calcularCos(num)\n",
    "            print(\"El coseno de \", num, \"es\", resultado_cos)\n",
    "        elif opcion == 6:  \n",
    "            resultado_sin = calcularSin(num)\n",
    "            print(\"El seno de \", num, \"es\", resultado_sin)\n",
    "        elif opcion == 7:\n",
    "            resultado_tan = calcularTan(num)\n",
    "            print(\"La tangente de \", num, \"es\", resultado_tan)\n",
    "        elif opcion == 8:  \n",
    "            resultado_raiz = calcularRaiz(num)\n",
    "            print(\"La raiz de \", num, \"es\", resultado_raiz)\n",
    "            \n",
    "    elif opcion == 9:  \n",
    "        fin = True"
   ]
  },
  {
   "cell_type": "code",
   "execution_count": null,
   "id": "d14f7430",
   "metadata": {},
   "outputs": [],
   "source": []
  }
 ],
 "metadata": {
  "kernelspec": {
   "display_name": "Python 3 (ipykernel)",
   "language": "python",
   "name": "python3"
  },
  "language_info": {
   "codemirror_mode": {
    "name": "ipython",
    "version": 3
   },
   "file_extension": ".py",
   "mimetype": "text/x-python",
   "name": "python",
   "nbconvert_exporter": "python",
   "pygments_lexer": "ipython3",
   "version": "3.8.16"
  }
 },
 "nbformat": 4,
 "nbformat_minor": 5
}
